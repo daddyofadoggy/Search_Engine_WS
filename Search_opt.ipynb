{
 "cells": [
  {
   "cell_type": "code",
   "execution_count": 1,
   "id": "87d9d0ca-16e0-4270-947e-3939bce1a854",
   "metadata": {},
   "outputs": [],
   "source": [
    "import pandas as pd"
   ]
  },
  {
   "cell_type": "code",
   "execution_count": 2,
   "id": "97079aee-b514-4589-b23c-3c2484143bb7",
   "metadata": {},
   "outputs": [],
   "source": [
    "import requests \n",
    "\n",
    "docs_url = 'https://github.com/alexeygrigorev/llm-rag-workshop/raw/main/notebooks/documents.json'\n",
    "docs_response = requests.get(docs_url)\n",
    "documents_raw = docs_response.json()\n",
    "\n",
    "documents = []\n",
    "\n",
    "for course in documents_raw:\n",
    "    course_name = course['course']\n",
    "\n",
    "    for doc in course['documents']:\n",
    "        doc['course'] = course_name\n",
    "        documents.append(doc)"
   ]
  },
  {
   "cell_type": "code",
   "execution_count": 3,
   "id": "7390036a-6891-4da8-ba6f-e3f4872982de",
   "metadata": {},
   "outputs": [
    {
     "data": {
      "text/plain": [
       "[{'text': \"The purpose of this document is to capture frequently asked technical questions\\nThe exact day and hour of the course will be 15th Jan 2024 at 17h00. The course will start with the first  “Office Hours'' live.1\\nSubscribe to course public Google Calendar (it works from Desktop only).\\nRegister before the course starts using this link.\\nJoin the course Telegram channel with announcements.\\nDon’t forget to register in DataTalks.Club's Slack and join the channel.\",\n",
       "  'section': 'General course-related questions',\n",
       "  'question': 'Course - When will the course start?',\n",
       "  'course': 'data-engineering-zoomcamp'},\n",
       " {'text': 'GitHub - DataTalksClub data-engineering-zoomcamp#prerequisites',\n",
       "  'section': 'General course-related questions',\n",
       "  'question': 'Course - What are the prerequisites for this course?',\n",
       "  'course': 'data-engineering-zoomcamp'}]"
      ]
     },
     "execution_count": 3,
     "metadata": {},
     "output_type": "execute_result"
    }
   ],
   "source": [
    "documents[0:2]"
   ]
  },
  {
   "cell_type": "code",
   "execution_count": 4,
   "id": "c622dc8c-a543-41cd-966a-8e2a9d535b84",
   "metadata": {},
   "outputs": [
    {
     "data": {
      "text/plain": [
       "'data-engineering-zoomcamp'"
      ]
     },
     "execution_count": 4,
     "metadata": {},
     "output_type": "execute_result"
    }
   ],
   "source": [
    "documents_raw[0]['course']"
   ]
  },
  {
   "cell_type": "code",
   "execution_count": 5,
   "id": "7a6375c9-f55c-43e5-bf41-304bae2495ea",
   "metadata": {},
   "outputs": [],
   "source": [
    "#documents_raw[0]"
   ]
  },
  {
   "cell_type": "code",
   "execution_count": 6,
   "id": "81885501-49ca-413b-b642-7fc2583eae43",
   "metadata": {},
   "outputs": [
    {
     "data": {
      "text/plain": [
       "{'text': \"The purpose of this document is to capture frequently asked technical questions\\nThe exact day and hour of the course will be 15th Jan 2024 at 17h00. The course will start with the first  “Office Hours'' live.1\\nSubscribe to course public Google Calendar (it works from Desktop only).\\nRegister before the course starts using this link.\\nJoin the course Telegram channel with announcements.\\nDon’t forget to register in DataTalks.Club's Slack and join the channel.\",\n",
       " 'section': 'General course-related questions',\n",
       " 'question': 'Course - When will the course start?',\n",
       " 'course': 'data-engineering-zoomcamp'}"
      ]
     },
     "execution_count": 6,
     "metadata": {},
     "output_type": "execute_result"
    }
   ],
   "source": [
    "documents[0]"
   ]
  },
  {
   "cell_type": "code",
   "execution_count": 7,
   "id": "a2d7950e-f053-406a-b6eb-6b99c80ad4be",
   "metadata": {},
   "outputs": [
    {
     "data": {
      "text/html": [
       "<div>\n",
       "<style scoped>\n",
       "    .dataframe tbody tr th:only-of-type {\n",
       "        vertical-align: middle;\n",
       "    }\n",
       "\n",
       "    .dataframe tbody tr th {\n",
       "        vertical-align: top;\n",
       "    }\n",
       "\n",
       "    .dataframe thead th {\n",
       "        text-align: right;\n",
       "    }\n",
       "</style>\n",
       "<table border=\"1\" class=\"dataframe\">\n",
       "  <thead>\n",
       "    <tr style=\"text-align: right;\">\n",
       "      <th></th>\n",
       "      <th>course</th>\n",
       "      <th>section</th>\n",
       "      <th>question</th>\n",
       "      <th>text</th>\n",
       "    </tr>\n",
       "  </thead>\n",
       "  <tbody>\n",
       "    <tr>\n",
       "      <th>0</th>\n",
       "      <td>data-engineering-zoomcamp</td>\n",
       "      <td>General course-related questions</td>\n",
       "      <td>Course - When will the course start?</td>\n",
       "      <td>The purpose of this document is to capture fre...</td>\n",
       "    </tr>\n",
       "    <tr>\n",
       "      <th>1</th>\n",
       "      <td>data-engineering-zoomcamp</td>\n",
       "      <td>General course-related questions</td>\n",
       "      <td>Course - What are the prerequisites for this c...</td>\n",
       "      <td>GitHub - DataTalksClub data-engineering-zoomca...</td>\n",
       "    </tr>\n",
       "    <tr>\n",
       "      <th>2</th>\n",
       "      <td>data-engineering-zoomcamp</td>\n",
       "      <td>General course-related questions</td>\n",
       "      <td>Course - Can I still join the course after the...</td>\n",
       "      <td>Yes, even if you don't register, you're still ...</td>\n",
       "    </tr>\n",
       "    <tr>\n",
       "      <th>3</th>\n",
       "      <td>data-engineering-zoomcamp</td>\n",
       "      <td>General course-related questions</td>\n",
       "      <td>Course - I have registered for the Data Engine...</td>\n",
       "      <td>You don't need it. You're accepted. You can al...</td>\n",
       "    </tr>\n",
       "    <tr>\n",
       "      <th>4</th>\n",
       "      <td>data-engineering-zoomcamp</td>\n",
       "      <td>General course-related questions</td>\n",
       "      <td>Course - What can I do before the course starts?</td>\n",
       "      <td>You can start by installing and setting up all...</td>\n",
       "    </tr>\n",
       "  </tbody>\n",
       "</table>\n",
       "</div>"
      ],
      "text/plain": [
       "                      course                           section  \\\n",
       "0  data-engineering-zoomcamp  General course-related questions   \n",
       "1  data-engineering-zoomcamp  General course-related questions   \n",
       "2  data-engineering-zoomcamp  General course-related questions   \n",
       "3  data-engineering-zoomcamp  General course-related questions   \n",
       "4  data-engineering-zoomcamp  General course-related questions   \n",
       "\n",
       "                                            question  \\\n",
       "0               Course - When will the course start?   \n",
       "1  Course - What are the prerequisites for this c...   \n",
       "2  Course - Can I still join the course after the...   \n",
       "3  Course - I have registered for the Data Engine...   \n",
       "4   Course - What can I do before the course starts?   \n",
       "\n",
       "                                                text  \n",
       "0  The purpose of this document is to capture fre...  \n",
       "1  GitHub - DataTalksClub data-engineering-zoomca...  \n",
       "2  Yes, even if you don't register, you're still ...  \n",
       "3  You don't need it. You're accepted. You can al...  \n",
       "4  You can start by installing and setting up all...  "
      ]
     },
     "execution_count": 7,
     "metadata": {},
     "output_type": "execute_result"
    }
   ],
   "source": [
    "import pandas as pd\n",
    "\n",
    "df = pd.DataFrame(documents, columns=['course', 'section', 'question', 'text'])\n",
    "df.head()"
   ]
  },
  {
   "cell_type": "code",
   "execution_count": 8,
   "id": "7cbd51fe-ea96-40d7-ae7e-2647cde5d11c",
   "metadata": {},
   "outputs": [
    {
     "data": {
      "text/plain": [
       "course\n",
       "data-engineering-zoomcamp    435\n",
       "machine-learning-zoomcamp    375\n",
       "mlops-zoomcamp               138\n",
       "Name: count, dtype: int64"
      ]
     },
     "execution_count": 8,
     "metadata": {},
     "output_type": "execute_result"
    }
   ],
   "source": [
    "df['course'].value_counts()"
   ]
  },
  {
   "cell_type": "code",
   "execution_count": 9,
   "id": "3b0912a2-f675-4cb3-bee6-f59888987b78",
   "metadata": {},
   "outputs": [
    {
     "data": {
      "text/html": [
       "<div>\n",
       "<style scoped>\n",
       "    .dataframe tbody tr th:only-of-type {\n",
       "        vertical-align: middle;\n",
       "    }\n",
       "\n",
       "    .dataframe tbody tr th {\n",
       "        vertical-align: top;\n",
       "    }\n",
       "\n",
       "    .dataframe thead th {\n",
       "        text-align: right;\n",
       "    }\n",
       "</style>\n",
       "<table border=\"1\" class=\"dataframe\">\n",
       "  <thead>\n",
       "    <tr style=\"text-align: right;\">\n",
       "      <th></th>\n",
       "      <th>course</th>\n",
       "      <th>section</th>\n",
       "      <th>question</th>\n",
       "      <th>text</th>\n",
       "    </tr>\n",
       "  </thead>\n",
       "  <tbody>\n",
       "    <tr>\n",
       "      <th>0</th>\n",
       "      <td>data-engineering-zoomcamp</td>\n",
       "      <td>General course-related questions</td>\n",
       "      <td>Course - When will the course start?</td>\n",
       "      <td>The purpose of this document is to capture fre...</td>\n",
       "    </tr>\n",
       "    <tr>\n",
       "      <th>1</th>\n",
       "      <td>data-engineering-zoomcamp</td>\n",
       "      <td>General course-related questions</td>\n",
       "      <td>Course - What are the prerequisites for this c...</td>\n",
       "      <td>GitHub - DataTalksClub data-engineering-zoomca...</td>\n",
       "    </tr>\n",
       "    <tr>\n",
       "      <th>2</th>\n",
       "      <td>data-engineering-zoomcamp</td>\n",
       "      <td>General course-related questions</td>\n",
       "      <td>Course - Can I still join the course after the...</td>\n",
       "      <td>Yes, even if you don't register, you're still ...</td>\n",
       "    </tr>\n",
       "    <tr>\n",
       "      <th>3</th>\n",
       "      <td>data-engineering-zoomcamp</td>\n",
       "      <td>General course-related questions</td>\n",
       "      <td>Course - I have registered for the Data Engine...</td>\n",
       "      <td>You don't need it. You're accepted. You can al...</td>\n",
       "    </tr>\n",
       "    <tr>\n",
       "      <th>4</th>\n",
       "      <td>data-engineering-zoomcamp</td>\n",
       "      <td>General course-related questions</td>\n",
       "      <td>Course - What can I do before the course starts?</td>\n",
       "      <td>You can start by installing and setting up all...</td>\n",
       "    </tr>\n",
       "    <tr>\n",
       "      <th>...</th>\n",
       "      <td>...</td>\n",
       "      <td>...</td>\n",
       "      <td>...</td>\n",
       "      <td>...</td>\n",
       "    </tr>\n",
       "    <tr>\n",
       "      <th>430</th>\n",
       "      <td>data-engineering-zoomcamp</td>\n",
       "      <td>Workshop 2 - RisingWave</td>\n",
       "      <td>Unable to Open Dashboard as xdg-open doesn’t o...</td>\n",
       "      <td>Refer to the solution given in the first solut...</td>\n",
       "    </tr>\n",
       "    <tr>\n",
       "      <th>431</th>\n",
       "      <td>data-engineering-zoomcamp</td>\n",
       "      <td>Workshop 2 - RisingWave</td>\n",
       "      <td>Resolving Python Interpreter Path Inconsistenc...</td>\n",
       "      <td>Example Error:\\nWhen attempting to execute a P...</td>\n",
       "    </tr>\n",
       "    <tr>\n",
       "      <th>432</th>\n",
       "      <td>data-engineering-zoomcamp</td>\n",
       "      <td>Workshop 2 - RisingWave</td>\n",
       "      <td>How does windowing work in Sql?</td>\n",
       "      <td>Ans : Windowing in streaming SQL involves defi...</td>\n",
       "    </tr>\n",
       "    <tr>\n",
       "      <th>433</th>\n",
       "      <td>data-engineering-zoomcamp</td>\n",
       "      <td>Triggers in Mage via CLI</td>\n",
       "      <td>Encountering the error \"ModuleNotFoundError: N...</td>\n",
       "      <td>Python 3.12.1, is not compatible with kafka-py...</td>\n",
       "    </tr>\n",
       "    <tr>\n",
       "      <th>434</th>\n",
       "      <td>data-engineering-zoomcamp</td>\n",
       "      <td>Triggers in Mage via CLI</td>\n",
       "      <td>Basic Commands</td>\n",
       "      <td>Docker Commands\\n# Create a Docker Image from ...</td>\n",
       "    </tr>\n",
       "  </tbody>\n",
       "</table>\n",
       "<p>435 rows × 4 columns</p>\n",
       "</div>"
      ],
      "text/plain": [
       "                        course                           section  \\\n",
       "0    data-engineering-zoomcamp  General course-related questions   \n",
       "1    data-engineering-zoomcamp  General course-related questions   \n",
       "2    data-engineering-zoomcamp  General course-related questions   \n",
       "3    data-engineering-zoomcamp  General course-related questions   \n",
       "4    data-engineering-zoomcamp  General course-related questions   \n",
       "..                         ...                               ...   \n",
       "430  data-engineering-zoomcamp           Workshop 2 - RisingWave   \n",
       "431  data-engineering-zoomcamp           Workshop 2 - RisingWave   \n",
       "432  data-engineering-zoomcamp           Workshop 2 - RisingWave   \n",
       "433  data-engineering-zoomcamp          Triggers in Mage via CLI   \n",
       "434  data-engineering-zoomcamp          Triggers in Mage via CLI   \n",
       "\n",
       "                                              question  \\\n",
       "0                 Course - When will the course start?   \n",
       "1    Course - What are the prerequisites for this c...   \n",
       "2    Course - Can I still join the course after the...   \n",
       "3    Course - I have registered for the Data Engine...   \n",
       "4     Course - What can I do before the course starts?   \n",
       "..                                                 ...   \n",
       "430  Unable to Open Dashboard as xdg-open doesn’t o...   \n",
       "431  Resolving Python Interpreter Path Inconsistenc...   \n",
       "432                    How does windowing work in Sql?   \n",
       "433  Encountering the error \"ModuleNotFoundError: N...   \n",
       "434                                     Basic Commands   \n",
       "\n",
       "                                                  text  \n",
       "0    The purpose of this document is to capture fre...  \n",
       "1    GitHub - DataTalksClub data-engineering-zoomca...  \n",
       "2    Yes, even if you don't register, you're still ...  \n",
       "3    You don't need it. You're accepted. You can al...  \n",
       "4    You can start by installing and setting up all...  \n",
       "..                                                 ...  \n",
       "430  Refer to the solution given in the first solut...  \n",
       "431  Example Error:\\nWhen attempting to execute a P...  \n",
       "432  Ans : Windowing in streaming SQL involves defi...  \n",
       "433  Python 3.12.1, is not compatible with kafka-py...  \n",
       "434  Docker Commands\\n# Create a Docker Image from ...  \n",
       "\n",
       "[435 rows x 4 columns]"
      ]
     },
     "execution_count": 9,
     "metadata": {},
     "output_type": "execute_result"
    }
   ],
   "source": [
    "df[df['course'] == 'data-engineering-zoomcamp']"
   ]
  },
  {
   "cell_type": "markdown",
   "id": "344707d8-4282-4c1a-9cca-722f1a9ac1e4",
   "metadata": {},
   "source": [
    "## Vectorization ## "
   ]
  },
  {
   "cell_type": "markdown",
   "id": "a13ab3b4-715c-4135-bc73-eadbd3b7f16c",
   "metadata": {},
   "source": [
    "# bag of words"
   ]
  },
  {
   "cell_type": "code",
   "execution_count": null,
   "id": "bbdff66a-747f-41af-91be-2181e4ead607",
   "metadata": {},
   "outputs": [],
   "source": []
  },
  {
   "cell_type": "code",
   "execution_count": 10,
   "id": "7fb6af28-06a7-4fa5-b0ca-656fb3be860a",
   "metadata": {},
   "outputs": [],
   "source": [
    "docs_example = [\n",
    "    \"Course starts on 15th Jan 2024\",\n",
    "    \"Prerequisites listed on GitHub\",\n",
    "    \"Submit homeworks after start date\",\n",
    "    \"Registration not required for participation\",\n",
    "    \"Setup Google Cloud and Python before course\"\n",
    "]"
   ]
  },
  {
   "cell_type": "code",
   "execution_count": 11,
   "id": "dc62e55c-9d74-4328-8a4a-c3046f169c5c",
   "metadata": {},
   "outputs": [],
   "source": [
    "from sklearn.feature_extraction.text import CountVectorizer\n",
    "\n",
    "cv = CountVectorizer(stop_words='english')\n",
    "X = cv.fit_transform(docs_example)\n",
    "\n",
    "names = cv.get_feature_names_out()"
   ]
  },
  {
   "cell_type": "code",
   "execution_count": 12,
   "id": "3ed4c8ec-6176-4b36-a70d-e3eead290b2c",
   "metadata": {},
   "outputs": [],
   "source": [
    "X = cv.transform(docs_example)"
   ]
  },
  {
   "cell_type": "code",
   "execution_count": 13,
   "id": "3df58d63-f29c-4b75-b8fa-460b96eb99a4",
   "metadata": {
    "scrolled": true
   },
   "outputs": [
    {
     "data": {
      "text/plain": [
       "array(['15th', '2024', 'cloud', 'course', 'date', 'github', 'google',\n",
       "       'homeworks', 'jan', 'listed', 'participation', 'prerequisites',\n",
       "       'python', 'registration', 'required', 'setup', 'start', 'starts',\n",
       "       'submit'], dtype=object)"
      ]
     },
     "execution_count": 13,
     "metadata": {},
     "output_type": "execute_result"
    }
   ],
   "source": [
    "names"
   ]
  },
  {
   "cell_type": "code",
   "execution_count": 14,
   "id": "34c54091-9a2b-4261-a010-1753f86bd5a1",
   "metadata": {},
   "outputs": [
    {
     "data": {
      "text/plain": [
       "(5, 19)"
      ]
     },
     "execution_count": 14,
     "metadata": {},
     "output_type": "execute_result"
    }
   ],
   "source": [
    "X.shape"
   ]
  },
  {
   "cell_type": "code",
   "execution_count": null,
   "id": "513d0572-764b-428c-8323-8fe6984ccbea",
   "metadata": {},
   "outputs": [],
   "source": []
  },
  {
   "cell_type": "code",
   "execution_count": 25,
   "id": "ff15bd17-08a5-480c-9b50-93735e4f308e",
   "metadata": {},
   "outputs": [
    {
     "data": {
      "text/plain": [
       "<Compressed Sparse Row sparse matrix of dtype 'int64'\n",
       "\twith 20 stored elements and shape (5, 19)>"
      ]
     },
     "execution_count": 25,
     "metadata": {},
     "output_type": "execute_result"
    }
   ],
   "source": [
    "X"
   ]
  },
  {
   "cell_type": "code",
   "execution_count": 15,
   "id": "7a1d349e-b623-4c73-8509-4ee66599db77",
   "metadata": {},
   "outputs": [
    {
     "data": {
      "text/plain": [
       "array([[1, 1, 0, 1, 0, 0, 0, 0, 1, 0, 0, 0, 0, 0, 0, 0, 0, 1, 0],\n",
       "       [0, 0, 0, 0, 0, 1, 0, 0, 0, 1, 0, 1, 0, 0, 0, 0, 0, 0, 0],\n",
       "       [0, 0, 0, 0, 1, 0, 0, 1, 0, 0, 0, 0, 0, 0, 0, 0, 1, 0, 1],\n",
       "       [0, 0, 0, 0, 0, 0, 0, 0, 0, 0, 1, 0, 0, 1, 1, 0, 0, 0, 0],\n",
       "       [0, 0, 1, 1, 0, 0, 1, 0, 0, 0, 0, 0, 1, 0, 0, 1, 0, 0, 0]])"
      ]
     },
     "execution_count": 15,
     "metadata": {},
     "output_type": "execute_result"
    }
   ],
   "source": [
    "X.toarray()"
   ]
  },
  {
   "cell_type": "code",
   "execution_count": 16,
   "id": "76a575a5-1edf-4a1d-a097-4be0aab10415",
   "metadata": {},
   "outputs": [
    {
     "data": {
      "text/plain": [
       "19"
      ]
     },
     "execution_count": 16,
     "metadata": {},
     "output_type": "execute_result"
    }
   ],
   "source": [
    "len(names)"
   ]
  },
  {
   "cell_type": "code",
   "execution_count": 17,
   "id": "e627e875-18ad-4951-8077-146f9cec543c",
   "metadata": {},
   "outputs": [
    {
     "data": {
      "text/plain": [
       "matrix([[1, 1, 0, 1, 0, 0, 0, 0, 1, 0, 0, 0, 0, 0, 0, 0, 0, 1, 0],\n",
       "        [0, 0, 0, 0, 0, 1, 0, 0, 0, 1, 0, 1, 0, 0, 0, 0, 0, 0, 0],\n",
       "        [0, 0, 0, 0, 1, 0, 0, 1, 0, 0, 0, 0, 0, 0, 0, 0, 1, 0, 1],\n",
       "        [0, 0, 0, 0, 0, 0, 0, 0, 0, 0, 1, 0, 0, 1, 1, 0, 0, 0, 0],\n",
       "        [0, 0, 1, 1, 0, 0, 1, 0, 0, 0, 0, 0, 1, 0, 0, 1, 0, 0, 0]])"
      ]
     },
     "execution_count": 17,
     "metadata": {},
     "output_type": "execute_result"
    }
   ],
   "source": [
    "X.todense()"
   ]
  },
  {
   "cell_type": "code",
   "execution_count": 18,
   "id": "7a9a4ae7-c038-47dd-9201-f2a8b97e6a30",
   "metadata": {},
   "outputs": [
    {
     "data": {
      "text/html": [
       "<div>\n",
       "<style scoped>\n",
       "    .dataframe tbody tr th:only-of-type {\n",
       "        vertical-align: middle;\n",
       "    }\n",
       "\n",
       "    .dataframe tbody tr th {\n",
       "        vertical-align: top;\n",
       "    }\n",
       "\n",
       "    .dataframe thead th {\n",
       "        text-align: right;\n",
       "    }\n",
       "</style>\n",
       "<table border=\"1\" class=\"dataframe\">\n",
       "  <thead>\n",
       "    <tr style=\"text-align: right;\">\n",
       "      <th></th>\n",
       "      <th>15th</th>\n",
       "      <th>2024</th>\n",
       "      <th>cloud</th>\n",
       "      <th>course</th>\n",
       "      <th>date</th>\n",
       "      <th>github</th>\n",
       "      <th>google</th>\n",
       "      <th>homeworks</th>\n",
       "      <th>jan</th>\n",
       "      <th>listed</th>\n",
       "      <th>participation</th>\n",
       "      <th>prerequisites</th>\n",
       "      <th>python</th>\n",
       "      <th>registration</th>\n",
       "      <th>required</th>\n",
       "      <th>setup</th>\n",
       "      <th>start</th>\n",
       "      <th>starts</th>\n",
       "      <th>submit</th>\n",
       "    </tr>\n",
       "  </thead>\n",
       "  <tbody>\n",
       "    <tr>\n",
       "      <th>0</th>\n",
       "      <td>1</td>\n",
       "      <td>1</td>\n",
       "      <td>0</td>\n",
       "      <td>1</td>\n",
       "      <td>0</td>\n",
       "      <td>0</td>\n",
       "      <td>0</td>\n",
       "      <td>0</td>\n",
       "      <td>1</td>\n",
       "      <td>0</td>\n",
       "      <td>0</td>\n",
       "      <td>0</td>\n",
       "      <td>0</td>\n",
       "      <td>0</td>\n",
       "      <td>0</td>\n",
       "      <td>0</td>\n",
       "      <td>0</td>\n",
       "      <td>1</td>\n",
       "      <td>0</td>\n",
       "    </tr>\n",
       "    <tr>\n",
       "      <th>1</th>\n",
       "      <td>0</td>\n",
       "      <td>0</td>\n",
       "      <td>0</td>\n",
       "      <td>0</td>\n",
       "      <td>0</td>\n",
       "      <td>1</td>\n",
       "      <td>0</td>\n",
       "      <td>0</td>\n",
       "      <td>0</td>\n",
       "      <td>1</td>\n",
       "      <td>0</td>\n",
       "      <td>1</td>\n",
       "      <td>0</td>\n",
       "      <td>0</td>\n",
       "      <td>0</td>\n",
       "      <td>0</td>\n",
       "      <td>0</td>\n",
       "      <td>0</td>\n",
       "      <td>0</td>\n",
       "    </tr>\n",
       "    <tr>\n",
       "      <th>2</th>\n",
       "      <td>0</td>\n",
       "      <td>0</td>\n",
       "      <td>0</td>\n",
       "      <td>0</td>\n",
       "      <td>1</td>\n",
       "      <td>0</td>\n",
       "      <td>0</td>\n",
       "      <td>1</td>\n",
       "      <td>0</td>\n",
       "      <td>0</td>\n",
       "      <td>0</td>\n",
       "      <td>0</td>\n",
       "      <td>0</td>\n",
       "      <td>0</td>\n",
       "      <td>0</td>\n",
       "      <td>0</td>\n",
       "      <td>1</td>\n",
       "      <td>0</td>\n",
       "      <td>1</td>\n",
       "    </tr>\n",
       "    <tr>\n",
       "      <th>3</th>\n",
       "      <td>0</td>\n",
       "      <td>0</td>\n",
       "      <td>0</td>\n",
       "      <td>0</td>\n",
       "      <td>0</td>\n",
       "      <td>0</td>\n",
       "      <td>0</td>\n",
       "      <td>0</td>\n",
       "      <td>0</td>\n",
       "      <td>0</td>\n",
       "      <td>1</td>\n",
       "      <td>0</td>\n",
       "      <td>0</td>\n",
       "      <td>1</td>\n",
       "      <td>1</td>\n",
       "      <td>0</td>\n",
       "      <td>0</td>\n",
       "      <td>0</td>\n",
       "      <td>0</td>\n",
       "    </tr>\n",
       "    <tr>\n",
       "      <th>4</th>\n",
       "      <td>0</td>\n",
       "      <td>0</td>\n",
       "      <td>1</td>\n",
       "      <td>1</td>\n",
       "      <td>0</td>\n",
       "      <td>0</td>\n",
       "      <td>1</td>\n",
       "      <td>0</td>\n",
       "      <td>0</td>\n",
       "      <td>0</td>\n",
       "      <td>0</td>\n",
       "      <td>0</td>\n",
       "      <td>1</td>\n",
       "      <td>0</td>\n",
       "      <td>0</td>\n",
       "      <td>1</td>\n",
       "      <td>0</td>\n",
       "      <td>0</td>\n",
       "      <td>0</td>\n",
       "    </tr>\n",
       "  </tbody>\n",
       "</table>\n",
       "</div>"
      ],
      "text/plain": [
       "   15th  2024  cloud  course  date  github  google  homeworks  jan  listed  \\\n",
       "0     1     1      0       1     0       0       0          0    1       0   \n",
       "1     0     0      0       0     0       1       0          0    0       1   \n",
       "2     0     0      0       0     1       0       0          1    0       0   \n",
       "3     0     0      0       0     0       0       0          0    0       0   \n",
       "4     0     0      1       1     0       0       1          0    0       0   \n",
       "\n",
       "   participation  prerequisites  python  registration  required  setup  start  \\\n",
       "0              0              0       0             0         0      0      0   \n",
       "1              0              1       0             0         0      0      0   \n",
       "2              0              0       0             0         0      0      1   \n",
       "3              1              0       0             1         1      0      0   \n",
       "4              0              0       1             0         0      1      0   \n",
       "\n",
       "   starts  submit  \n",
       "0       1       0  \n",
       "1       0       0  \n",
       "2       0       1  \n",
       "3       0       0  \n",
       "4       0       0  "
      ]
     },
     "execution_count": 18,
     "metadata": {},
     "output_type": "execute_result"
    }
   ],
   "source": [
    "pd.DataFrame(X.todense(), columns= cv.get_feature_names_out())"
   ]
  },
  {
   "cell_type": "code",
   "execution_count": 19,
   "id": "3e470579-5f0b-482e-8d22-82ed1141698f",
   "metadata": {},
   "outputs": [
    {
     "data": {
      "text/html": [
       "<div>\n",
       "<style scoped>\n",
       "    .dataframe tbody tr th:only-of-type {\n",
       "        vertical-align: middle;\n",
       "    }\n",
       "\n",
       "    .dataframe tbody tr th {\n",
       "        vertical-align: top;\n",
       "    }\n",
       "\n",
       "    .dataframe thead th {\n",
       "        text-align: right;\n",
       "    }\n",
       "</style>\n",
       "<table border=\"1\" class=\"dataframe\">\n",
       "  <thead>\n",
       "    <tr style=\"text-align: right;\">\n",
       "      <th></th>\n",
       "      <th>0</th>\n",
       "      <th>1</th>\n",
       "      <th>2</th>\n",
       "      <th>3</th>\n",
       "      <th>4</th>\n",
       "    </tr>\n",
       "  </thead>\n",
       "  <tbody>\n",
       "    <tr>\n",
       "      <th>15th</th>\n",
       "      <td>1</td>\n",
       "      <td>0</td>\n",
       "      <td>0</td>\n",
       "      <td>0</td>\n",
       "      <td>0</td>\n",
       "    </tr>\n",
       "    <tr>\n",
       "      <th>2024</th>\n",
       "      <td>1</td>\n",
       "      <td>0</td>\n",
       "      <td>0</td>\n",
       "      <td>0</td>\n",
       "      <td>0</td>\n",
       "    </tr>\n",
       "    <tr>\n",
       "      <th>cloud</th>\n",
       "      <td>0</td>\n",
       "      <td>0</td>\n",
       "      <td>0</td>\n",
       "      <td>0</td>\n",
       "      <td>1</td>\n",
       "    </tr>\n",
       "    <tr>\n",
       "      <th>course</th>\n",
       "      <td>1</td>\n",
       "      <td>0</td>\n",
       "      <td>0</td>\n",
       "      <td>0</td>\n",
       "      <td>1</td>\n",
       "    </tr>\n",
       "    <tr>\n",
       "      <th>date</th>\n",
       "      <td>0</td>\n",
       "      <td>0</td>\n",
       "      <td>1</td>\n",
       "      <td>0</td>\n",
       "      <td>0</td>\n",
       "    </tr>\n",
       "    <tr>\n",
       "      <th>github</th>\n",
       "      <td>0</td>\n",
       "      <td>1</td>\n",
       "      <td>0</td>\n",
       "      <td>0</td>\n",
       "      <td>0</td>\n",
       "    </tr>\n",
       "    <tr>\n",
       "      <th>google</th>\n",
       "      <td>0</td>\n",
       "      <td>0</td>\n",
       "      <td>0</td>\n",
       "      <td>0</td>\n",
       "      <td>1</td>\n",
       "    </tr>\n",
       "    <tr>\n",
       "      <th>homeworks</th>\n",
       "      <td>0</td>\n",
       "      <td>0</td>\n",
       "      <td>1</td>\n",
       "      <td>0</td>\n",
       "      <td>0</td>\n",
       "    </tr>\n",
       "    <tr>\n",
       "      <th>jan</th>\n",
       "      <td>1</td>\n",
       "      <td>0</td>\n",
       "      <td>0</td>\n",
       "      <td>0</td>\n",
       "      <td>0</td>\n",
       "    </tr>\n",
       "    <tr>\n",
       "      <th>listed</th>\n",
       "      <td>0</td>\n",
       "      <td>1</td>\n",
       "      <td>0</td>\n",
       "      <td>0</td>\n",
       "      <td>0</td>\n",
       "    </tr>\n",
       "    <tr>\n",
       "      <th>participation</th>\n",
       "      <td>0</td>\n",
       "      <td>0</td>\n",
       "      <td>0</td>\n",
       "      <td>1</td>\n",
       "      <td>0</td>\n",
       "    </tr>\n",
       "    <tr>\n",
       "      <th>prerequisites</th>\n",
       "      <td>0</td>\n",
       "      <td>1</td>\n",
       "      <td>0</td>\n",
       "      <td>0</td>\n",
       "      <td>0</td>\n",
       "    </tr>\n",
       "    <tr>\n",
       "      <th>python</th>\n",
       "      <td>0</td>\n",
       "      <td>0</td>\n",
       "      <td>0</td>\n",
       "      <td>0</td>\n",
       "      <td>1</td>\n",
       "    </tr>\n",
       "    <tr>\n",
       "      <th>registration</th>\n",
       "      <td>0</td>\n",
       "      <td>0</td>\n",
       "      <td>0</td>\n",
       "      <td>1</td>\n",
       "      <td>0</td>\n",
       "    </tr>\n",
       "    <tr>\n",
       "      <th>required</th>\n",
       "      <td>0</td>\n",
       "      <td>0</td>\n",
       "      <td>0</td>\n",
       "      <td>1</td>\n",
       "      <td>0</td>\n",
       "    </tr>\n",
       "    <tr>\n",
       "      <th>setup</th>\n",
       "      <td>0</td>\n",
       "      <td>0</td>\n",
       "      <td>0</td>\n",
       "      <td>0</td>\n",
       "      <td>1</td>\n",
       "    </tr>\n",
       "    <tr>\n",
       "      <th>start</th>\n",
       "      <td>0</td>\n",
       "      <td>0</td>\n",
       "      <td>1</td>\n",
       "      <td>0</td>\n",
       "      <td>0</td>\n",
       "    </tr>\n",
       "    <tr>\n",
       "      <th>starts</th>\n",
       "      <td>1</td>\n",
       "      <td>0</td>\n",
       "      <td>0</td>\n",
       "      <td>0</td>\n",
       "      <td>0</td>\n",
       "    </tr>\n",
       "    <tr>\n",
       "      <th>submit</th>\n",
       "      <td>0</td>\n",
       "      <td>0</td>\n",
       "      <td>1</td>\n",
       "      <td>0</td>\n",
       "      <td>0</td>\n",
       "    </tr>\n",
       "  </tbody>\n",
       "</table>\n",
       "</div>"
      ],
      "text/plain": [
       "               0  1  2  3  4\n",
       "15th           1  0  0  0  0\n",
       "2024           1  0  0  0  0\n",
       "cloud          0  0  0  0  1\n",
       "course         1  0  0  0  1\n",
       "date           0  0  1  0  0\n",
       "github         0  1  0  0  0\n",
       "google         0  0  0  0  1\n",
       "homeworks      0  0  1  0  0\n",
       "jan            1  0  0  0  0\n",
       "listed         0  1  0  0  0\n",
       "participation  0  0  0  1  0\n",
       "prerequisites  0  1  0  0  0\n",
       "python         0  0  0  0  1\n",
       "registration   0  0  0  1  0\n",
       "required       0  0  0  1  0\n",
       "setup          0  0  0  0  1\n",
       "start          0  0  1  0  0\n",
       "starts         1  0  0  0  0\n",
       "submit         0  0  1  0  0"
      ]
     },
     "execution_count": 19,
     "metadata": {},
     "output_type": "execute_result"
    }
   ],
   "source": [
    "pd.DataFrame(X.todense(), columns= cv.get_feature_names_out()).T"
   ]
  },
  {
   "cell_type": "code",
   "execution_count": null,
   "id": "3c1d1a23-a594-41cd-bcef-7f5a60cde30f",
   "metadata": {},
   "outputs": [],
   "source": []
  },
  {
   "cell_type": "code",
   "execution_count": 20,
   "id": "607bb2ee-82b5-4a0b-837f-f398849f08b6",
   "metadata": {
    "scrolled": true
   },
   "outputs": [
    {
     "data": {
      "text/html": [
       "<div>\n",
       "<style scoped>\n",
       "    .dataframe tbody tr th:only-of-type {\n",
       "        vertical-align: middle;\n",
       "    }\n",
       "\n",
       "    .dataframe tbody tr th {\n",
       "        vertical-align: top;\n",
       "    }\n",
       "\n",
       "    .dataframe thead th {\n",
       "        text-align: right;\n",
       "    }\n",
       "</style>\n",
       "<table border=\"1\" class=\"dataframe\">\n",
       "  <thead>\n",
       "    <tr style=\"text-align: right;\">\n",
       "      <th></th>\n",
       "      <th>01</th>\n",
       "      <th>02</th>\n",
       "      <th>03</th>\n",
       "      <th>04</th>\n",
       "      <th>05</th>\n",
       "      <th>06</th>\n",
       "      <th>09</th>\n",
       "      <th>10</th>\n",
       "      <th>100</th>\n",
       "      <th>11</th>\n",
       "      <th>...</th>\n",
       "      <th>y_val</th>\n",
       "      <th>yaml</th>\n",
       "      <th>year</th>\n",
       "      <th>yellow</th>\n",
       "      <th>yellow_tripdata_2021</th>\n",
       "      <th>yes</th>\n",
       "      <th>yml</th>\n",
       "      <th>youtube</th>\n",
       "      <th>zip</th>\n",
       "      <th>zoomcamp</th>\n",
       "    </tr>\n",
       "  </thead>\n",
       "  <tbody>\n",
       "    <tr>\n",
       "      <th>0</th>\n",
       "      <td>0.0</td>\n",
       "      <td>0.0</td>\n",
       "      <td>0.0</td>\n",
       "      <td>0.0</td>\n",
       "      <td>0.0</td>\n",
       "      <td>0.0</td>\n",
       "      <td>0.0</td>\n",
       "      <td>0.0</td>\n",
       "      <td>0.0</td>\n",
       "      <td>0.0</td>\n",
       "      <td>...</td>\n",
       "      <td>0.0</td>\n",
       "      <td>0.00</td>\n",
       "      <td>0.0</td>\n",
       "      <td>0.0</td>\n",
       "      <td>0.0</td>\n",
       "      <td>0.00</td>\n",
       "      <td>0.00</td>\n",
       "      <td>0.0</td>\n",
       "      <td>0.0</td>\n",
       "      <td>0.00</td>\n",
       "    </tr>\n",
       "    <tr>\n",
       "      <th>1</th>\n",
       "      <td>0.0</td>\n",
       "      <td>0.0</td>\n",
       "      <td>0.0</td>\n",
       "      <td>0.0</td>\n",
       "      <td>0.0</td>\n",
       "      <td>0.0</td>\n",
       "      <td>0.0</td>\n",
       "      <td>0.0</td>\n",
       "      <td>0.0</td>\n",
       "      <td>0.0</td>\n",
       "      <td>...</td>\n",
       "      <td>0.0</td>\n",
       "      <td>0.00</td>\n",
       "      <td>0.0</td>\n",
       "      <td>0.0</td>\n",
       "      <td>0.0</td>\n",
       "      <td>0.00</td>\n",
       "      <td>0.00</td>\n",
       "      <td>0.0</td>\n",
       "      <td>0.0</td>\n",
       "      <td>0.43</td>\n",
       "    </tr>\n",
       "    <tr>\n",
       "      <th>2</th>\n",
       "      <td>0.0</td>\n",
       "      <td>0.0</td>\n",
       "      <td>0.0</td>\n",
       "      <td>0.0</td>\n",
       "      <td>0.0</td>\n",
       "      <td>0.0</td>\n",
       "      <td>0.0</td>\n",
       "      <td>0.0</td>\n",
       "      <td>0.0</td>\n",
       "      <td>0.0</td>\n",
       "      <td>...</td>\n",
       "      <td>0.0</td>\n",
       "      <td>0.00</td>\n",
       "      <td>0.0</td>\n",
       "      <td>0.0</td>\n",
       "      <td>0.0</td>\n",
       "      <td>0.28</td>\n",
       "      <td>0.00</td>\n",
       "      <td>0.0</td>\n",
       "      <td>0.0</td>\n",
       "      <td>0.00</td>\n",
       "    </tr>\n",
       "    <tr>\n",
       "      <th>3</th>\n",
       "      <td>0.0</td>\n",
       "      <td>0.0</td>\n",
       "      <td>0.0</td>\n",
       "      <td>0.0</td>\n",
       "      <td>0.0</td>\n",
       "      <td>0.0</td>\n",
       "      <td>0.0</td>\n",
       "      <td>0.0</td>\n",
       "      <td>0.0</td>\n",
       "      <td>0.0</td>\n",
       "      <td>...</td>\n",
       "      <td>0.0</td>\n",
       "      <td>0.00</td>\n",
       "      <td>0.0</td>\n",
       "      <td>0.0</td>\n",
       "      <td>0.0</td>\n",
       "      <td>0.00</td>\n",
       "      <td>0.00</td>\n",
       "      <td>0.0</td>\n",
       "      <td>0.0</td>\n",
       "      <td>0.00</td>\n",
       "    </tr>\n",
       "    <tr>\n",
       "      <th>4</th>\n",
       "      <td>0.0</td>\n",
       "      <td>0.0</td>\n",
       "      <td>0.0</td>\n",
       "      <td>0.0</td>\n",
       "      <td>0.0</td>\n",
       "      <td>0.0</td>\n",
       "      <td>0.0</td>\n",
       "      <td>0.0</td>\n",
       "      <td>0.0</td>\n",
       "      <td>0.0</td>\n",
       "      <td>...</td>\n",
       "      <td>0.0</td>\n",
       "      <td>0.00</td>\n",
       "      <td>0.0</td>\n",
       "      <td>0.0</td>\n",
       "      <td>0.0</td>\n",
       "      <td>0.00</td>\n",
       "      <td>0.00</td>\n",
       "      <td>0.0</td>\n",
       "      <td>0.0</td>\n",
       "      <td>0.00</td>\n",
       "    </tr>\n",
       "    <tr>\n",
       "      <th>...</th>\n",
       "      <td>...</td>\n",
       "      <td>...</td>\n",
       "      <td>...</td>\n",
       "      <td>...</td>\n",
       "      <td>...</td>\n",
       "      <td>...</td>\n",
       "      <td>...</td>\n",
       "      <td>...</td>\n",
       "      <td>...</td>\n",
       "      <td>...</td>\n",
       "      <td>...</td>\n",
       "      <td>...</td>\n",
       "      <td>...</td>\n",
       "      <td>...</td>\n",
       "      <td>...</td>\n",
       "      <td>...</td>\n",
       "      <td>...</td>\n",
       "      <td>...</td>\n",
       "      <td>...</td>\n",
       "      <td>...</td>\n",
       "      <td>...</td>\n",
       "    </tr>\n",
       "    <tr>\n",
       "      <th>943</th>\n",
       "      <td>0.0</td>\n",
       "      <td>0.0</td>\n",
       "      <td>0.0</td>\n",
       "      <td>0.0</td>\n",
       "      <td>0.0</td>\n",
       "      <td>0.0</td>\n",
       "      <td>0.0</td>\n",
       "      <td>0.0</td>\n",
       "      <td>0.0</td>\n",
       "      <td>0.0</td>\n",
       "      <td>...</td>\n",
       "      <td>0.0</td>\n",
       "      <td>0.00</td>\n",
       "      <td>0.0</td>\n",
       "      <td>0.0</td>\n",
       "      <td>0.0</td>\n",
       "      <td>0.00</td>\n",
       "      <td>0.11</td>\n",
       "      <td>0.0</td>\n",
       "      <td>0.0</td>\n",
       "      <td>0.00</td>\n",
       "    </tr>\n",
       "    <tr>\n",
       "      <th>944</th>\n",
       "      <td>0.0</td>\n",
       "      <td>0.0</td>\n",
       "      <td>0.0</td>\n",
       "      <td>0.0</td>\n",
       "      <td>0.0</td>\n",
       "      <td>0.0</td>\n",
       "      <td>0.0</td>\n",
       "      <td>0.0</td>\n",
       "      <td>0.0</td>\n",
       "      <td>0.0</td>\n",
       "      <td>...</td>\n",
       "      <td>0.0</td>\n",
       "      <td>0.00</td>\n",
       "      <td>0.0</td>\n",
       "      <td>0.0</td>\n",
       "      <td>0.0</td>\n",
       "      <td>0.00</td>\n",
       "      <td>0.00</td>\n",
       "      <td>0.0</td>\n",
       "      <td>0.0</td>\n",
       "      <td>0.00</td>\n",
       "    </tr>\n",
       "    <tr>\n",
       "      <th>945</th>\n",
       "      <td>0.0</td>\n",
       "      <td>0.0</td>\n",
       "      <td>0.0</td>\n",
       "      <td>0.0</td>\n",
       "      <td>0.0</td>\n",
       "      <td>0.0</td>\n",
       "      <td>0.0</td>\n",
       "      <td>0.0</td>\n",
       "      <td>0.0</td>\n",
       "      <td>0.0</td>\n",
       "      <td>...</td>\n",
       "      <td>0.0</td>\n",
       "      <td>0.17</td>\n",
       "      <td>0.0</td>\n",
       "      <td>0.0</td>\n",
       "      <td>0.0</td>\n",
       "      <td>0.00</td>\n",
       "      <td>0.00</td>\n",
       "      <td>0.0</td>\n",
       "      <td>0.0</td>\n",
       "      <td>0.00</td>\n",
       "    </tr>\n",
       "    <tr>\n",
       "      <th>946</th>\n",
       "      <td>0.0</td>\n",
       "      <td>0.0</td>\n",
       "      <td>0.0</td>\n",
       "      <td>0.0</td>\n",
       "      <td>0.0</td>\n",
       "      <td>0.0</td>\n",
       "      <td>0.0</td>\n",
       "      <td>0.0</td>\n",
       "      <td>0.0</td>\n",
       "      <td>0.0</td>\n",
       "      <td>...</td>\n",
       "      <td>0.0</td>\n",
       "      <td>0.00</td>\n",
       "      <td>0.0</td>\n",
       "      <td>0.0</td>\n",
       "      <td>0.0</td>\n",
       "      <td>0.00</td>\n",
       "      <td>0.00</td>\n",
       "      <td>0.0</td>\n",
       "      <td>0.0</td>\n",
       "      <td>0.00</td>\n",
       "    </tr>\n",
       "    <tr>\n",
       "      <th>947</th>\n",
       "      <td>0.0</td>\n",
       "      <td>0.0</td>\n",
       "      <td>0.0</td>\n",
       "      <td>0.0</td>\n",
       "      <td>0.0</td>\n",
       "      <td>0.0</td>\n",
       "      <td>0.0</td>\n",
       "      <td>0.0</td>\n",
       "      <td>0.0</td>\n",
       "      <td>0.0</td>\n",
       "      <td>...</td>\n",
       "      <td>0.0</td>\n",
       "      <td>0.00</td>\n",
       "      <td>0.0</td>\n",
       "      <td>0.0</td>\n",
       "      <td>0.0</td>\n",
       "      <td>0.00</td>\n",
       "      <td>0.00</td>\n",
       "      <td>0.0</td>\n",
       "      <td>0.0</td>\n",
       "      <td>0.15</td>\n",
       "    </tr>\n",
       "  </tbody>\n",
       "</table>\n",
       "<p>948 rows × 1333 columns</p>\n",
       "</div>"
      ],
      "text/plain": [
       "      01   02   03   04   05   06   09   10  100   11  ...  y_val  yaml  year  \\\n",
       "0    0.0  0.0  0.0  0.0  0.0  0.0  0.0  0.0  0.0  0.0  ...    0.0  0.00   0.0   \n",
       "1    0.0  0.0  0.0  0.0  0.0  0.0  0.0  0.0  0.0  0.0  ...    0.0  0.00   0.0   \n",
       "2    0.0  0.0  0.0  0.0  0.0  0.0  0.0  0.0  0.0  0.0  ...    0.0  0.00   0.0   \n",
       "3    0.0  0.0  0.0  0.0  0.0  0.0  0.0  0.0  0.0  0.0  ...    0.0  0.00   0.0   \n",
       "4    0.0  0.0  0.0  0.0  0.0  0.0  0.0  0.0  0.0  0.0  ...    0.0  0.00   0.0   \n",
       "..   ...  ...  ...  ...  ...  ...  ...  ...  ...  ...  ...    ...   ...   ...   \n",
       "943  0.0  0.0  0.0  0.0  0.0  0.0  0.0  0.0  0.0  0.0  ...    0.0  0.00   0.0   \n",
       "944  0.0  0.0  0.0  0.0  0.0  0.0  0.0  0.0  0.0  0.0  ...    0.0  0.00   0.0   \n",
       "945  0.0  0.0  0.0  0.0  0.0  0.0  0.0  0.0  0.0  0.0  ...    0.0  0.17   0.0   \n",
       "946  0.0  0.0  0.0  0.0  0.0  0.0  0.0  0.0  0.0  0.0  ...    0.0  0.00   0.0   \n",
       "947  0.0  0.0  0.0  0.0  0.0  0.0  0.0  0.0  0.0  0.0  ...    0.0  0.00   0.0   \n",
       "\n",
       "     yellow  yellow_tripdata_2021   yes   yml  youtube  zip  zoomcamp  \n",
       "0       0.0                   0.0  0.00  0.00      0.0  0.0      0.00  \n",
       "1       0.0                   0.0  0.00  0.00      0.0  0.0      0.43  \n",
       "2       0.0                   0.0  0.28  0.00      0.0  0.0      0.00  \n",
       "3       0.0                   0.0  0.00  0.00      0.0  0.0      0.00  \n",
       "4       0.0                   0.0  0.00  0.00      0.0  0.0      0.00  \n",
       "..      ...                   ...   ...   ...      ...  ...       ...  \n",
       "943     0.0                   0.0  0.00  0.11      0.0  0.0      0.00  \n",
       "944     0.0                   0.0  0.00  0.00      0.0  0.0      0.00  \n",
       "945     0.0                   0.0  0.00  0.00      0.0  0.0      0.00  \n",
       "946     0.0                   0.0  0.00  0.00      0.0  0.0      0.00  \n",
       "947     0.0                   0.0  0.00  0.00      0.0  0.0      0.15  \n",
       "\n",
       "[948 rows x 1333 columns]"
      ]
     },
     "execution_count": 20,
     "metadata": {},
     "output_type": "execute_result"
    }
   ],
   "source": [
    "from sklearn.feature_extraction.text import TfidfVectorizer\n",
    "\n",
    "cv = TfidfVectorizer(stop_words='english', min_df = 5)\n",
    "X = cv.fit_transform(df.text)\n",
    "\n",
    "names = cv.get_feature_names_out()\n",
    "\n",
    "df_docs = pd.DataFrame(X.toarray(), columns=names)\n",
    "df_docs.round(2)"
   ]
  },
  {
   "cell_type": "markdown",
   "id": "2f8d2982-0b13-44e0-9531-87472d66a799",
   "metadata": {},
   "source": [
    "# Query- DoC Similarity"
   ]
  },
  {
   "cell_type": "code",
   "execution_count": 21,
   "id": "19c669c8-9f24-48ed-8033-d47437ddc18b",
   "metadata": {},
   "outputs": [
    {
     "data": {
      "text/plain": [
       "array([[0., 0., 0., ..., 0., 0., 0.]], shape=(1, 1333))"
      ]
     },
     "execution_count": 21,
     "metadata": {},
     "output_type": "execute_result"
    }
   ],
   "source": [
    "query = \"Do I need to know python to sign up for the January course?\"\n",
    "\n",
    "q = cv.transform([query])\n",
    "q.toarray()"
   ]
  },
  {
   "cell_type": "code",
   "execution_count": 22,
   "id": "d38dc004-4440-4144-94fa-0062db9df13f",
   "metadata": {},
   "outputs": [],
   "source": [
    "query_dict = dict(zip(names, q.toarray()[0]))\n",
    "#query_dict"
   ]
  },
  {
   "cell_type": "code",
   "execution_count": 23,
   "id": "2db7d2f1-b6f1-4c1b-9c8d-3aa4ebf544a9",
   "metadata": {},
   "outputs": [],
   "source": [
    "a = [k for k, v in query_dict.items() if v >0]"
   ]
  },
  {
   "cell_type": "code",
   "execution_count": 24,
   "id": "5ddd4bff-8811-4866-83b7-54ecabc5bb0a",
   "metadata": {},
   "outputs": [
    {
     "data": {
      "text/plain": [
       "['course', 'know', 'need', 'python', 'sign']"
      ]
     },
     "execution_count": 24,
     "metadata": {},
     "output_type": "execute_result"
    }
   ],
   "source": [
    "a"
   ]
  },
  {
   "cell_type": "code",
   "execution_count": 25,
   "id": "5da41d90-9272-4e4d-8277-84421ea89603",
   "metadata": {},
   "outputs": [
    {
     "data": {
      "text/plain": [
       "np.float64(0.5608269127690405)"
      ]
     },
     "execution_count": 25,
     "metadata": {},
     "output_type": "execute_result"
    }
   ],
   "source": [
    "query_dict['know']"
   ]
  },
  {
   "cell_type": "code",
   "execution_count": 26,
   "id": "59bb3e68-f467-4a8a-82ae-5457c80d5ac6",
   "metadata": {},
   "outputs": [
    {
     "data": {
      "text/plain": [
       "array([[0.        , 0.        , 0.        , ..., 0.        , 0.        ,\n",
       "        0.        ],\n",
       "       [0.        , 0.        , 0.        , ..., 0.        , 0.        ,\n",
       "        0.42896052],\n",
       "       [0.        , 0.        , 0.        , ..., 0.        , 0.        ,\n",
       "        0.        ],\n",
       "       ...,\n",
       "       [0.        , 0.        , 0.        , ..., 0.        , 0.        ,\n",
       "        0.        ],\n",
       "       [0.        , 0.        , 0.        , ..., 0.        , 0.        ,\n",
       "        0.        ],\n",
       "       [0.        , 0.        , 0.        , ..., 0.        , 0.        ,\n",
       "        0.14842753]], shape=(948, 1333))"
      ]
     },
     "execution_count": 26,
     "metadata": {},
     "output_type": "execute_result"
    }
   ],
   "source": [
    "X.toarray()"
   ]
  },
  {
   "cell_type": "code",
   "execution_count": 27,
   "id": "76f8539e-9ceb-4478-acb3-1aca927f49e9",
   "metadata": {},
   "outputs": [],
   "source": [
    "doc_dict = dict(zip(names, X.toarray()[2]))\n",
    "#doc_dict"
   ]
  },
  {
   "cell_type": "code",
   "execution_count": 28,
   "id": "010df37b-2c29-4234-8d4c-f750e9158a71",
   "metadata": {},
   "outputs": [],
   "source": [
    "a = [k for k, v in doc_dict.items() if v >0]"
   ]
  },
  {
   "cell_type": "code",
   "execution_count": 29,
   "id": "bcca3849-a0d3-4490-8551-4061ba0ab7f7",
   "metadata": {},
   "outputs": [
    {
     "data": {
      "text/plain": [
       "['don', 'final', 'homeworks', 'projects', 'register', 'submit', 'yes']"
      ]
     },
     "execution_count": 29,
     "metadata": {},
     "output_type": "execute_result"
    }
   ],
   "source": [
    "a"
   ]
  },
  {
   "cell_type": "code",
   "execution_count": 43,
   "id": "d41519a5-3ad8-4089-b1a5-82f3e8557ad4",
   "metadata": {},
   "outputs": [],
   "source": [
    "#X.dot(q.T).toarray()"
   ]
  },
  {
   "cell_type": "code",
   "execution_count": 31,
   "id": "941076ff-3979-4e77-a0b7-f2773dfd05b7",
   "metadata": {},
   "outputs": [],
   "source": [
    "from sklearn.metrics.pairwise import cosine_similarity"
   ]
  },
  {
   "cell_type": "code",
   "execution_count": 32,
   "id": "e9c4cbee-a089-4bb5-bf6b-49e13ee49cad",
   "metadata": {},
   "outputs": [],
   "source": [
    "score = cosine_similarity(X, q).flatten()"
   ]
  },
  {
   "cell_type": "code",
   "execution_count": 33,
   "id": "ee278ba9-4636-4155-a691-90b63e7c6132",
   "metadata": {},
   "outputs": [],
   "source": [
    "import numpy as np"
   ]
  },
  {
   "cell_type": "code",
   "execution_count": 34,
   "id": "16b79ce2-e3a5-4297-9ae4-31231b9bc150",
   "metadata": {},
   "outputs": [
    {
     "data": {
      "text/plain": [
       "array([764,  27, 806, 577, 445])"
      ]
     },
     "execution_count": 34,
     "metadata": {},
     "output_type": "execute_result"
    }
   ],
   "source": [
    "np.argsort(score)[-5:]"
   ]
  },
  {
   "cell_type": "code",
   "execution_count": 35,
   "id": "40195baf-331b-48dc-b264-d7a14d06b1af",
   "metadata": {},
   "outputs": [
    {
     "data": {
      "text/plain": [
       "'If you have submitted two projects (and peer-reviewed at least 3 course-mates’ projects for each submission), you will get the certificate for the course. According to the course coordinator, Alexey Grigorev, only two projects are needed to get the course certificate.\\n(optional) David Odimegwu'"
      ]
     },
     "execution_count": 35,
     "metadata": {},
     "output_type": "execute_result"
    }
   ],
   "source": [
    "df.iloc[764].text"
   ]
  },
  {
   "cell_type": "code",
   "execution_count": 36,
   "id": "d67ba040-6c4d-4723-b386-221fea4b5541",
   "metadata": {},
   "outputs": [
    {
     "data": {
      "text/html": [
       "<div>\n",
       "<style scoped>\n",
       "    .dataframe tbody tr th:only-of-type {\n",
       "        vertical-align: middle;\n",
       "    }\n",
       "\n",
       "    .dataframe tbody tr th {\n",
       "        vertical-align: top;\n",
       "    }\n",
       "\n",
       "    .dataframe thead th {\n",
       "        text-align: right;\n",
       "    }\n",
       "</style>\n",
       "<table border=\"1\" class=\"dataframe\">\n",
       "  <thead>\n",
       "    <tr style=\"text-align: right;\">\n",
       "      <th></th>\n",
       "      <th>course</th>\n",
       "      <th>section</th>\n",
       "      <th>question</th>\n",
       "      <th>text</th>\n",
       "    </tr>\n",
       "  </thead>\n",
       "  <tbody>\n",
       "    <tr>\n",
       "      <th>0</th>\n",
       "      <td>data-engineering-zoomcamp</td>\n",
       "      <td>General course-related questions</td>\n",
       "      <td>Course - When will the course start?</td>\n",
       "      <td>The purpose of this document is to capture fre...</td>\n",
       "    </tr>\n",
       "    <tr>\n",
       "      <th>1</th>\n",
       "      <td>data-engineering-zoomcamp</td>\n",
       "      <td>General course-related questions</td>\n",
       "      <td>Course - What are the prerequisites for this c...</td>\n",
       "      <td>GitHub - DataTalksClub data-engineering-zoomca...</td>\n",
       "    </tr>\n",
       "    <tr>\n",
       "      <th>2</th>\n",
       "      <td>data-engineering-zoomcamp</td>\n",
       "      <td>General course-related questions</td>\n",
       "      <td>Course - Can I still join the course after the...</td>\n",
       "      <td>Yes, even if you don't register, you're still ...</td>\n",
       "    </tr>\n",
       "    <tr>\n",
       "      <th>3</th>\n",
       "      <td>data-engineering-zoomcamp</td>\n",
       "      <td>General course-related questions</td>\n",
       "      <td>Course - I have registered for the Data Engine...</td>\n",
       "      <td>You don't need it. You're accepted. You can al...</td>\n",
       "    </tr>\n",
       "    <tr>\n",
       "      <th>4</th>\n",
       "      <td>data-engineering-zoomcamp</td>\n",
       "      <td>General course-related questions</td>\n",
       "      <td>Course - What can I do before the course starts?</td>\n",
       "      <td>You can start by installing and setting up all...</td>\n",
       "    </tr>\n",
       "  </tbody>\n",
       "</table>\n",
       "</div>"
      ],
      "text/plain": [
       "                      course                           section  \\\n",
       "0  data-engineering-zoomcamp  General course-related questions   \n",
       "1  data-engineering-zoomcamp  General course-related questions   \n",
       "2  data-engineering-zoomcamp  General course-related questions   \n",
       "3  data-engineering-zoomcamp  General course-related questions   \n",
       "4  data-engineering-zoomcamp  General course-related questions   \n",
       "\n",
       "                                            question  \\\n",
       "0               Course - When will the course start?   \n",
       "1  Course - What are the prerequisites for this c...   \n",
       "2  Course - Can I still join the course after the...   \n",
       "3  Course - I have registered for the Data Engine...   \n",
       "4   Course - What can I do before the course starts?   \n",
       "\n",
       "                                                text  \n",
       "0  The purpose of this document is to capture fre...  \n",
       "1  GitHub - DataTalksClub data-engineering-zoomca...  \n",
       "2  Yes, even if you don't register, you're still ...  \n",
       "3  You don't need it. You're accepted. You can al...  \n",
       "4  You can start by installing and setting up all...  "
      ]
     },
     "execution_count": 36,
     "metadata": {},
     "output_type": "execute_result"
    }
   ],
   "source": [
    "df.head()"
   ]
  },
  {
   "cell_type": "code",
   "execution_count": 37,
   "id": "1c33360c-75d3-4e22-9822-9df11256d176",
   "metadata": {},
   "outputs": [
    {
     "data": {
      "text/plain": [
       "Index(['course', 'section', 'question', 'text'], dtype='object')"
      ]
     },
     "execution_count": 37,
     "metadata": {},
     "output_type": "execute_result"
    }
   ],
   "source": [
    "df.columns"
   ]
  },
  {
   "cell_type": "code",
   "execution_count": 40,
   "id": "6cd7ab18-2ba5-4a8a-b7b9-e19c4567b702",
   "metadata": {},
   "outputs": [],
   "source": [
    "fields = ['course', 'section', 'question', 'text']"
   ]
  },
  {
   "cell_type": "code",
   "execution_count": 57,
   "id": "24157f78-42fe-442e-bb08-233b0aa6fead",
   "metadata": {},
   "outputs": [],
   "source": [
    "matrices = {}\n",
    "vectorizers = {}\n",
    "for f in fields:\n",
    "    cv = TfidfVectorizer(stop_words='english', min_df = 5)\n",
    "    X = cv.fit_transform(df[f])\n",
    "    matrices[f] = X\n",
    "    vectorizers[f] = cv"
   ]
  },
  {
   "cell_type": "code",
   "execution_count": 42,
   "id": "c3b7b4af-a24e-4098-8501-0eb87d052c0b",
   "metadata": {},
   "outputs": [
    {
     "data": {
      "text/plain": [
       "{'course': <Compressed Sparse Row sparse matrix of dtype 'float64'\n",
       " \twith 2706 stored elements and shape (948, 6)>,\n",
       " 'section': <Compressed Sparse Row sparse matrix of dtype 'float64'\n",
       " \twith 3090 stored elements and shape (948, 66)>,\n",
       " 'question': <Compressed Sparse Row sparse matrix of dtype 'float64'\n",
       " \twith 3431 stored elements and shape (948, 291)>,\n",
       " 'text': <Compressed Sparse Row sparse matrix of dtype 'float64'\n",
       " \twith 23808 stored elements and shape (948, 1333)>}"
      ]
     },
     "execution_count": 42,
     "metadata": {},
     "output_type": "execute_result"
    }
   ],
   "source": [
    "matrices"
   ]
  },
  {
   "cell_type": "code",
   "execution_count": 44,
   "id": "b87d498c-8084-47a8-80a3-0dbc51eee557",
   "metadata": {},
   "outputs": [],
   "source": [
    "n= len(df)"
   ]
  },
  {
   "cell_type": "code",
   "execution_count": 58,
   "id": "72d6e808-3396-4cc6-b4cb-1af60db4b07d",
   "metadata": {},
   "outputs": [
    {
     "data": {
      "text/plain": [
       "{'course': TfidfVectorizer(min_df=5, stop_words='english'),\n",
       " 'section': TfidfVectorizer(min_df=5, stop_words='english'),\n",
       " 'question': TfidfVectorizer(min_df=5, stop_words='english'),\n",
       " 'text': TfidfVectorizer(min_df=5, stop_words='english')}"
      ]
     },
     "execution_count": 58,
     "metadata": {},
     "output_type": "execute_result"
    }
   ],
   "source": [
    "vectorizers"
   ]
  },
  {
   "cell_type": "code",
   "execution_count": null,
   "id": "99d50fdf-44d7-4a94-94f2-607307c5d258",
   "metadata": {},
   "outputs": [],
   "source": []
  },
  {
   "cell_type": "code",
   "execution_count": null,
   "id": "8f1a4f44-db9e-44a7-84cc-f72dd7349c9f",
   "metadata": {},
   "outputs": [],
   "source": []
  },
  {
   "cell_type": "code",
   "execution_count": 79,
   "id": "8d9ebdff-dc73-4328-a776-f9e201233507",
   "metadata": {},
   "outputs": [],
   "source": [
    "score = np.zeros(n)\n",
    "query = \"I just discovered the course, is it too late to join?\"\n",
    "boosts = {\n",
    "    'question' : 3\n",
    "}\n",
    "for f in fields:\n",
    "    q = vectorizers[f].transform([query])\n",
    "    x = matrices[f]\n",
    "    f_score = cosine_similarity(x, q).flatten()\n",
    "    boost = boosts.get(f,1)\n",
    "    score = score + boost*f_score\n",
    "    "
   ]
  },
  {
   "cell_type": "code",
   "execution_count": 80,
   "id": "27c506af-350f-46a5-bf27-202f4e9f3dc3",
   "metadata": {},
   "outputs": [],
   "source": [
    "#score"
   ]
  },
  {
   "cell_type": "code",
   "execution_count": 81,
   "id": "edd304cc-2bb0-402c-a381-83105d9d2fb9",
   "metadata": {},
   "outputs": [],
   "source": [
    "filters = {\n",
    "    'course':'data-engineering-zoomcamp'\n",
    "}"
   ]
  },
  {
   "cell_type": "code",
   "execution_count": 82,
   "id": "c296e619-be3c-4519-a535-d9973785a318",
   "metadata": {},
   "outputs": [],
   "source": [
    "for field, value in filters.items():\n",
    "    mask = (df[field] == value).astype(int).values\n",
    "    score = score * mask"
   ]
  },
  {
   "cell_type": "code",
   "execution_count": 83,
   "id": "540a7ae6-71bb-4e39-9516-02b068bc65f7",
   "metadata": {},
   "outputs": [
    {
     "data": {
      "text/plain": [
       "array([3.52985023, 3.49512426, 2.70735166, 2.96614194, 3.49512426,\n",
       "       3.49512426, 1.93689291, 3.67069698, 2.67242848, 3.49512426,\n",
       "       3.10198469, 2.46096752, 0.49512426, 0.49512426, 0.49512426,\n",
       "       0.59193348, 0.49512426, 2.63772182, 0.57041627, 0.49512426,\n",
       "       0.49512426, 0.49512426, 0.79499188, 0.60033101, 0.49512426,\n",
       "       0.49512426, 0.49512426, 0.76959902, 0.62340833, 0.49512426,\n",
       "       0.49512426, 0.49512426, 0.49512426, 1.78972334, 3.49512426,\n",
       "       1.72080809, 0.49512426, 0.49512426, 0.49512426, 0.52668735,\n",
       "       0.54427244, 2.00115141, 0.49512426, 0.53842198, 0.        ,\n",
       "       0.        , 0.        , 0.        , 0.02804374, 0.        ,\n",
       "       0.        , 0.        , 0.        , 0.        , 0.        ,\n",
       "       0.        , 0.        , 0.        , 0.        , 0.        ,\n",
       "       0.        , 0.        , 0.06739038, 0.        , 0.00980845,\n",
       "       0.        , 0.        , 0.        , 0.        , 0.05820102,\n",
       "       0.        , 0.        , 0.        , 0.        , 0.        ,\n",
       "       0.05020173, 0.        , 0.        , 0.0605701 , 0.        ,\n",
       "       0.        , 0.        , 0.        , 0.05101782, 0.        ,\n",
       "       0.        , 0.04327901, 0.        , 0.03089898, 0.        ,\n",
       "       0.        , 0.05106564, 0.        , 0.        , 0.        ,\n",
       "       0.        , 0.        , 0.        , 0.        , 0.        ,\n",
       "       0.08232505, 0.        , 0.        , 0.        , 0.02129978,\n",
       "       0.        , 0.0308046 , 0.        , 0.        , 0.        ,\n",
       "       0.        , 0.        , 0.        , 0.16499001, 0.        ,\n",
       "       0.        , 0.        , 0.03561953, 0.        , 0.        ,\n",
       "       0.        , 0.        , 0.        , 0.        , 0.        ,\n",
       "       0.        , 0.        , 0.        , 0.        , 0.        ,\n",
       "       0.        , 0.        , 0.        , 0.        , 0.        ,\n",
       "       0.        , 0.        , 0.        , 0.        , 0.        ,\n",
       "       0.        , 0.        , 0.07733187, 0.        , 0.        ,\n",
       "       0.        , 0.        , 0.        , 0.12621053, 0.        ,\n",
       "       0.        , 0.        , 0.        , 0.        , 0.        ,\n",
       "       0.        , 0.        , 0.        , 0.01502752, 0.        ,\n",
       "       0.        , 0.        , 0.        , 0.        , 0.        ,\n",
       "       0.05398514, 0.        , 0.05115414, 0.        , 0.        ,\n",
       "       0.        , 0.        , 0.03869534, 0.04112908, 0.03728758,\n",
       "       0.        , 0.        , 0.        , 0.        , 0.        ,\n",
       "       0.        , 0.        , 0.        , 0.        , 0.        ,\n",
       "       0.        , 0.        , 0.        , 0.        , 0.        ,\n",
       "       0.        , 0.        , 0.        , 0.09064943, 0.        ,\n",
       "       0.        , 0.        , 0.        , 0.        , 0.        ,\n",
       "       0.        , 0.        , 0.        , 0.        , 0.        ,\n",
       "       0.        , 0.        , 0.        , 0.        , 0.04233182,\n",
       "       0.        , 0.        , 0.        , 0.        , 0.        ,\n",
       "       0.        , 0.        , 0.        , 0.        , 0.        ,\n",
       "       0.        , 0.        , 0.        , 0.        , 0.        ,\n",
       "       0.        , 0.07784175, 0.        , 0.        , 0.        ,\n",
       "       0.        , 0.        , 0.        , 0.        , 0.        ,\n",
       "       0.        , 0.        , 0.        , 0.        , 0.        ,\n",
       "       0.        , 0.02591152, 0.        , 0.03451997, 0.        ,\n",
       "       0.        , 0.        , 0.        , 0.        , 0.        ,\n",
       "       0.        , 0.        , 0.        , 0.        , 0.        ,\n",
       "       0.        , 0.        , 0.        , 0.        , 0.        ,\n",
       "       0.        , 0.        , 0.        , 0.        , 0.        ,\n",
       "       0.04143129, 0.        , 0.05407899, 0.        , 0.        ,\n",
       "       0.        , 0.        , 0.        , 0.        , 0.        ,\n",
       "       0.        , 0.        , 0.        , 0.        , 0.        ,\n",
       "       0.        , 0.        , 0.        , 0.        , 0.        ,\n",
       "       0.        , 0.        , 0.22471032, 0.04931254, 0.        ,\n",
       "       0.        , 0.        , 0.        , 0.        , 0.        ,\n",
       "       0.        , 0.        , 0.        , 0.        , 0.        ,\n",
       "       0.03820044, 0.        , 0.        , 0.        , 0.        ,\n",
       "       0.        , 0.        , 0.        , 0.        , 0.        ,\n",
       "       0.        , 0.        , 0.        , 0.        , 0.        ,\n",
       "       0.        , 0.        , 0.        , 0.        , 0.        ,\n",
       "       0.        , 0.02533066, 0.04085302, 0.        , 0.        ,\n",
       "       0.        , 0.        , 0.07593909, 0.0723982 , 0.        ,\n",
       "       0.        , 0.        , 0.        , 0.01328652, 0.        ,\n",
       "       0.        , 0.        , 0.        , 0.        , 0.        ,\n",
       "       0.        , 0.        , 0.10202387, 0.        , 0.        ,\n",
       "       0.        , 0.        , 0.        , 0.        , 0.        ,\n",
       "       0.        , 0.        , 0.        , 0.        , 0.        ,\n",
       "       0.        , 0.        , 0.        , 0.        , 0.        ,\n",
       "       0.        , 0.        , 0.        , 0.        , 0.        ,\n",
       "       0.        , 0.        , 0.        , 0.        , 0.        ,\n",
       "       0.        , 0.        , 0.        , 0.        , 0.        ,\n",
       "       0.        , 0.        , 0.        , 0.        , 0.        ,\n",
       "       0.        , 0.        , 0.        , 0.        , 0.        ,\n",
       "       0.        , 0.038628  , 0.        , 0.        , 0.        ,\n",
       "       0.        , 0.        , 0.        , 0.        , 0.        ,\n",
       "       0.12084703, 0.10694586, 0.        , 0.        , 0.        ,\n",
       "       0.        , 0.        , 0.        , 0.        , 0.        ,\n",
       "       0.        , 0.        , 0.        , 0.        , 0.        ,\n",
       "       1.        , 3.08997023, 0.        , 0.        , 0.        ,\n",
       "       0.        , 0.        , 0.        , 0.        , 0.        ,\n",
       "       0.        , 0.        , 0.        , 0.        , 0.        ,\n",
       "       0.        , 0.        , 0.        , 0.        , 0.        ,\n",
       "       0.05839441, 0.        , 0.        , 0.        , 0.        ,\n",
       "       0.        , 0.        , 0.        , 0.        , 0.        ,\n",
       "       0.        , 0.        , 0.        , 0.        , 0.        ,\n",
       "       0.        , 0.        , 0.        , 0.        , 0.        ,\n",
       "       0.        , 0.        , 0.        , 0.        , 0.        ,\n",
       "       0.        , 0.        , 0.        , 0.        , 0.        ,\n",
       "       0.        , 0.        , 0.        , 0.        , 0.        ,\n",
       "       0.        , 0.        , 0.        , 0.        , 0.        ,\n",
       "       0.        , 0.        , 0.        , 0.        , 0.        ,\n",
       "       0.        , 0.        , 0.        , 0.        , 0.        ,\n",
       "       0.        , 0.        , 0.        , 0.        , 0.        ,\n",
       "       0.        , 0.        , 0.        , 0.        , 0.        ,\n",
       "       0.        , 0.        , 0.        , 0.        , 0.        ,\n",
       "       0.        , 0.        , 0.        , 0.        , 0.        ,\n",
       "       0.        , 0.        , 0.        , 0.        , 0.        ,\n",
       "       0.        , 0.        , 0.        , 0.        , 0.        ,\n",
       "       0.        , 0.        , 0.        , 0.        , 0.        ,\n",
       "       0.        , 0.        , 0.        , 0.        , 0.        ,\n",
       "       0.        , 0.        , 0.        , 0.        , 0.        ,\n",
       "       0.        , 0.        , 0.        , 0.        , 0.        ,\n",
       "       0.        , 0.        , 0.        , 0.        , 0.        ,\n",
       "       0.        , 0.        , 0.        , 0.        , 0.        ,\n",
       "       0.        , 0.        , 0.        , 0.        , 0.        ,\n",
       "       0.        , 0.        , 0.        , 0.        , 0.        ,\n",
       "       0.        , 0.        , 0.        , 0.        , 0.        ,\n",
       "       0.        , 0.        , 0.        , 0.        , 0.        ,\n",
       "       0.        , 0.        , 0.        , 0.        , 0.        ,\n",
       "       0.        , 0.        , 0.        , 0.        , 0.        ,\n",
       "       0.        , 0.        , 0.        , 0.        , 0.        ,\n",
       "       0.        , 0.        , 0.        , 0.        , 0.        ,\n",
       "       0.        , 0.        , 0.        , 0.        , 0.        ,\n",
       "       0.        , 0.        , 0.        , 0.        , 0.        ,\n",
       "       0.        , 0.        , 0.        , 0.        , 0.        ,\n",
       "       0.        , 0.        , 0.        , 0.        , 0.        ,\n",
       "       0.        , 0.        , 0.        , 0.        , 0.        ,\n",
       "       0.        , 0.        , 0.        , 0.        , 0.        ,\n",
       "       0.        , 0.        , 0.        , 0.        , 0.        ,\n",
       "       0.        , 0.        , 0.        , 0.        , 0.        ,\n",
       "       0.        , 0.        , 0.        , 0.        , 0.        ,\n",
       "       0.        , 0.        , 0.        , 0.        , 0.        ,\n",
       "       0.        , 0.        , 0.        , 0.        , 0.        ,\n",
       "       0.        , 0.        , 0.        , 0.        , 0.        ,\n",
       "       0.        , 0.        , 0.        , 0.        , 0.        ,\n",
       "       0.        , 0.        , 0.        , 0.        , 0.        ,\n",
       "       0.        , 0.        , 0.        , 0.        , 0.        ,\n",
       "       0.        , 0.        , 0.        , 0.        , 0.        ,\n",
       "       0.        , 0.        , 0.        , 0.        , 0.        ,\n",
       "       0.        , 0.        , 0.        , 0.        , 0.        ,\n",
       "       0.        , 0.        , 0.        , 0.        , 0.        ,\n",
       "       0.        , 0.        , 0.        , 0.        , 0.        ,\n",
       "       0.        , 0.        , 0.        , 0.        , 0.        ,\n",
       "       0.        , 0.        , 0.        , 0.        , 0.        ,\n",
       "       0.        , 0.        , 0.        , 0.        , 0.        ,\n",
       "       0.        , 0.        , 0.        , 0.        , 0.        ,\n",
       "       0.        , 0.        , 0.        , 0.        , 0.        ,\n",
       "       0.        , 0.        , 0.        , 0.        , 0.        ,\n",
       "       0.        , 0.        , 0.        , 0.        , 0.        ,\n",
       "       0.        , 0.        , 0.        , 0.        , 0.        ,\n",
       "       0.        , 0.        , 0.        , 0.        , 0.        ,\n",
       "       0.        , 0.        , 0.        , 0.        , 0.        ,\n",
       "       0.        , 0.        , 0.        , 0.        , 0.        ,\n",
       "       0.        , 0.        , 0.        , 0.        , 0.        ,\n",
       "       0.        , 0.        , 0.        , 0.        , 0.        ,\n",
       "       0.        , 0.        , 0.        , 0.        , 0.        ,\n",
       "       0.        , 0.        , 0.        , 0.        , 0.        ,\n",
       "       0.        , 0.        , 0.        , 0.        , 0.        ,\n",
       "       0.        , 0.        , 0.        , 0.        , 0.        ,\n",
       "       0.        , 0.        , 0.        , 0.        , 0.        ,\n",
       "       0.        , 0.        , 0.        , 0.        , 0.        ,\n",
       "       0.        , 0.        , 0.        , 0.        , 0.        ,\n",
       "       0.        , 0.        , 0.        , 0.        , 0.        ,\n",
       "       0.        , 0.        , 0.        , 0.        , 0.        ,\n",
       "       0.        , 0.        , 0.        , 0.        , 0.        ,\n",
       "       0.        , 0.        , 0.        , 0.        , 0.        ,\n",
       "       0.        , 0.        , 0.        , 0.        , 0.        ,\n",
       "       0.        , 0.        , 0.        , 0.        , 0.        ,\n",
       "       0.        , 0.        , 0.        , 0.        , 0.        ,\n",
       "       0.        , 0.        , 0.        , 0.        , 0.        ,\n",
       "       0.        , 0.        , 0.        , 0.        , 0.        ,\n",
       "       0.        , 0.        , 0.        , 0.        , 0.        ,\n",
       "       0.        , 0.        , 0.        , 0.        , 0.        ,\n",
       "       0.        , 0.        , 0.        , 0.        , 0.        ,\n",
       "       0.        , 0.        , 0.        , 0.        , 0.        ,\n",
       "       0.        , 0.        , 0.        , 0.        , 0.        ,\n",
       "       0.        , 0.        , 0.        , 0.        , 0.        ,\n",
       "       0.        , 0.        , 0.        , 0.        , 0.        ,\n",
       "       0.        , 0.        , 0.        , 0.        , 0.        ,\n",
       "       0.        , 0.        , 0.        , 0.        , 0.        ,\n",
       "       0.        , 0.        , 0.        , 0.        , 0.        ,\n",
       "       0.        , 0.        , 0.        , 0.        , 0.        ,\n",
       "       0.        , 0.        , 0.        , 0.        , 0.        ,\n",
       "       0.        , 0.        , 0.        , 0.        , 0.        ,\n",
       "       0.        , 0.        , 0.        , 0.        , 0.        ,\n",
       "       0.        , 0.        , 0.        , 0.        , 0.        ,\n",
       "       0.        , 0.        , 0.        , 0.        , 0.        ,\n",
       "       0.        , 0.        , 0.        , 0.        , 0.        ,\n",
       "       0.        , 0.        , 0.        , 0.        , 0.        ,\n",
       "       0.        , 0.        , 0.        , 0.        , 0.        ,\n",
       "       0.        , 0.        , 0.        , 0.        , 0.        ,\n",
       "       0.        , 0.        , 0.        , 0.        , 0.        ,\n",
       "       0.        , 0.        , 0.        , 0.        , 0.        ,\n",
       "       0.        , 0.        , 0.        , 0.        , 0.        ,\n",
       "       0.        , 0.        , 0.        , 0.        , 0.        ,\n",
       "       0.        , 0.        , 0.        ])"
      ]
     },
     "execution_count": 83,
     "metadata": {},
     "output_type": "execute_result"
    }
   ],
   "source": [
    "score"
   ]
  },
  {
   "cell_type": "code",
   "execution_count": null,
   "id": "c8f9a0f9-d1e8-4b53-a42f-43071519bda0",
   "metadata": {},
   "outputs": [],
   "source": []
  },
  {
   "cell_type": "code",
   "execution_count": null,
   "id": "bc5a2a35-c51e-482c-a772-ed3a71ba1ea6",
   "metadata": {},
   "outputs": [],
   "source": []
  },
  {
   "cell_type": "code",
   "execution_count": null,
   "id": "57f49fcc-ab20-43b5-aead-86c9f490d1f4",
   "metadata": {},
   "outputs": [],
   "source": []
  },
  {
   "cell_type": "code",
   "execution_count": 84,
   "id": "9e703d69-7bc9-4724-97d8-9237fed3cd66",
   "metadata": {},
   "outputs": [],
   "source": [
    "idx = np.argsort(score)[-5:]"
   ]
  },
  {
   "cell_type": "code",
   "execution_count": 85,
   "id": "32a0361c-f5c9-4d2b-a86b-ca99f8a710d4",
   "metadata": {},
   "outputs": [
    {
     "data": {
      "text/plain": [
       "array([ 4, 34,  1,  0,  7])"
      ]
     },
     "execution_count": 85,
     "metadata": {},
     "output_type": "execute_result"
    }
   ],
   "source": [
    "idx"
   ]
  },
  {
   "cell_type": "code",
   "execution_count": 86,
   "id": "ac7f2078-83e4-481d-82a5-799410b71258",
   "metadata": {},
   "outputs": [
    {
     "data": {
      "text/html": [
       "<div>\n",
       "<style scoped>\n",
       "    .dataframe tbody tr th:only-of-type {\n",
       "        vertical-align: middle;\n",
       "    }\n",
       "\n",
       "    .dataframe tbody tr th {\n",
       "        vertical-align: top;\n",
       "    }\n",
       "\n",
       "    .dataframe thead th {\n",
       "        text-align: right;\n",
       "    }\n",
       "</style>\n",
       "<table border=\"1\" class=\"dataframe\">\n",
       "  <thead>\n",
       "    <tr style=\"text-align: right;\">\n",
       "      <th></th>\n",
       "      <th>course</th>\n",
       "      <th>section</th>\n",
       "      <th>question</th>\n",
       "      <th>text</th>\n",
       "    </tr>\n",
       "  </thead>\n",
       "  <tbody>\n",
       "    <tr>\n",
       "      <th>4</th>\n",
       "      <td>data-engineering-zoomcamp</td>\n",
       "      <td>General course-related questions</td>\n",
       "      <td>Course - What can I do before the course starts?</td>\n",
       "      <td>You can start by installing and setting up all...</td>\n",
       "    </tr>\n",
       "    <tr>\n",
       "      <th>34</th>\n",
       "      <td>data-engineering-zoomcamp</td>\n",
       "      <td>General course-related questions</td>\n",
       "      <td>How can we contribute to the course?</td>\n",
       "      <td>Star the repo! Share it with friends if you fi...</td>\n",
       "    </tr>\n",
       "    <tr>\n",
       "      <th>1</th>\n",
       "      <td>data-engineering-zoomcamp</td>\n",
       "      <td>General course-related questions</td>\n",
       "      <td>Course - What are the prerequisites for this c...</td>\n",
       "      <td>GitHub - DataTalksClub data-engineering-zoomca...</td>\n",
       "    </tr>\n",
       "    <tr>\n",
       "      <th>0</th>\n",
       "      <td>data-engineering-zoomcamp</td>\n",
       "      <td>General course-related questions</td>\n",
       "      <td>Course - When will the course start?</td>\n",
       "      <td>The purpose of this document is to capture fre...</td>\n",
       "    </tr>\n",
       "    <tr>\n",
       "      <th>7</th>\n",
       "      <td>data-engineering-zoomcamp</td>\n",
       "      <td>General course-related questions</td>\n",
       "      <td>Course - Can I follow the course after it fini...</td>\n",
       "      <td>Yes, we will keep all the materials after the ...</td>\n",
       "    </tr>\n",
       "  </tbody>\n",
       "</table>\n",
       "</div>"
      ],
      "text/plain": [
       "                       course                           section  \\\n",
       "4   data-engineering-zoomcamp  General course-related questions   \n",
       "34  data-engineering-zoomcamp  General course-related questions   \n",
       "1   data-engineering-zoomcamp  General course-related questions   \n",
       "0   data-engineering-zoomcamp  General course-related questions   \n",
       "7   data-engineering-zoomcamp  General course-related questions   \n",
       "\n",
       "                                             question  \\\n",
       "4    Course - What can I do before the course starts?   \n",
       "34               How can we contribute to the course?   \n",
       "1   Course - What are the prerequisites for this c...   \n",
       "0                Course - When will the course start?   \n",
       "7   Course - Can I follow the course after it fini...   \n",
       "\n",
       "                                                 text  \n",
       "4   You can start by installing and setting up all...  \n",
       "34  Star the repo! Share it with friends if you fi...  \n",
       "1   GitHub - DataTalksClub data-engineering-zoomca...  \n",
       "0   The purpose of this document is to capture fre...  \n",
       "7   Yes, we will keep all the materials after the ...  "
      ]
     },
     "execution_count": 86,
     "metadata": {},
     "output_type": "execute_result"
    }
   ],
   "source": [
    "df.iloc[idx]"
   ]
  },
  {
   "cell_type": "code",
   "execution_count": 87,
   "id": "29e85501-e719-4a9d-ba20-0e9b63c3cf47",
   "metadata": {},
   "outputs": [],
   "source": [
    "class TextSearch:\n",
    "\n",
    "    def __init__(self, text_fields):\n",
    "        self.text_fields = text_fields\n",
    "        self.matrices = {}\n",
    "        self.vectorizers = {}\n",
    "\n",
    "    def fit(self, records, vectorizer_params={}):\n",
    "        self.df = pd.DataFrame(records)\n",
    "\n",
    "        for f in self.text_fields:\n",
    "            cv = TfidfVectorizer(**vectorizer_params)\n",
    "            X = cv.fit_transform(self.df[f])\n",
    "            self.matrices[f] = X\n",
    "            self.vectorizers[f] = cv\n",
    "\n",
    "    def search(self, query, n_results=10, boost={}, filters={}):\n",
    "        score = np.zeros(len(self.df))\n",
    "\n",
    "        for f in self.text_fields:\n",
    "            b = boost.get(f, 1.0)\n",
    "            q = self.vectorizers[f].transform([query])\n",
    "            s = cosine_similarity(self.matrices[f], q).flatten()\n",
    "            score = score + b * s\n",
    "\n",
    "        for field, value in filters.items():\n",
    "            mask = (self.df[field] == value).values\n",
    "            score = score * mask\n",
    "\n",
    "        idx = np.argsort(-score)[:n_results]\n",
    "        results = self.df.iloc[idx]\n",
    "        return results.to_dict(orient='records')"
   ]
  },
  {
   "cell_type": "code",
   "execution_count": 88,
   "id": "7716ec49-1bb0-4980-8bfd-a5013a4e0114",
   "metadata": {},
   "outputs": [
    {
     "data": {
      "text/plain": [
       "[{'text': \"Yes, even if you don't register, you're still eligible to submit the homeworks.\\nBe aware, however, that there will be deadlines for turning in the final projects. So don't leave everything for the last minute.\",\n",
       "  'section': 'General course-related questions',\n",
       "  'question': 'Course - Can I still join the course after the start date?',\n",
       "  'course': 'data-engineering-zoomcamp'},\n",
       " {'text': \"The purpose of this document is to capture frequently asked technical questions\\nThe exact day and hour of the course will be 15th Jan 2024 at 17h00. The course will start with the first  “Office Hours'' live.1\\nSubscribe to course public Google Calendar (it works from Desktop only).\\nRegister before the course starts using this link.\\nJoin the course Telegram channel with announcements.\\nDon’t forget to register in DataTalks.Club's Slack and join the channel.\",\n",
       "  'section': 'General course-related questions',\n",
       "  'question': 'Course - When will the course start?',\n",
       "  'course': 'data-engineering-zoomcamp'},\n",
       " {'text': 'Yes, we will keep all the materials after the course finishes, so you can follow the course at your own pace after it finishes.\\nYou can also continue looking at the homeworks and continue preparing for the next cohort. I guess you can also start working on your final capstone project.',\n",
       "  'section': 'General course-related questions',\n",
       "  'question': 'Course - Can I follow the course after it finishes?',\n",
       "  'course': 'data-engineering-zoomcamp'},\n",
       " {'text': 'No, late submissions are not allowed. But if the form is still not closed and it’s after the due date, you can still submit the homework. confirm your submission by the date-timestamp on the Course page.y\\nOlder news:[source1] [source2]',\n",
       "  'section': 'General course-related questions',\n",
       "  'question': 'Homework - Are late submissions of homework allowed?',\n",
       "  'course': 'data-engineering-zoomcamp'},\n",
       " {'text': 'You can start by installing and setting up all the dependencies and requirements:\\nGoogle cloud account\\nGoogle Cloud SDK\\nPython 3 (installed with Anaconda)\\nTerraform\\nGit\\nLook over the prerequisites and syllabus to see if you are comfortable with these subjects.',\n",
       "  'section': 'General course-related questions',\n",
       "  'question': 'Course - What can I do before the course starts?',\n",
       "  'course': 'data-engineering-zoomcamp'}]"
      ]
     },
     "execution_count": 88,
     "metadata": {},
     "output_type": "execute_result"
    }
   ],
   "source": [
    "index = TextSearch(\n",
    "    text_fields=['section', 'question', 'text']\n",
    ")\n",
    "index.fit(documents)\n",
    "\n",
    "index.search(\n",
    "    query='I just singned up. Is it too late to join the course?',\n",
    "    n_results=5,\n",
    "    boost={'question': 3.0},\n",
    "    filters={'course': 'data-engineering-zoomcamp'}\n",
    ")"
   ]
  },
  {
   "cell_type": "markdown",
   "id": "0a0ae49f-2b0e-4e6d-8206-3027ae7c0418",
   "metadata": {},
   "source": [
    "## SVD ##"
   ]
  },
  {
   "cell_type": "code",
   "execution_count": 89,
   "id": "256a2e4b-bb27-4d49-9d88-1946dd204adc",
   "metadata": {},
   "outputs": [
    {
     "data": {
      "text/plain": [
       "<Compressed Sparse Row sparse matrix of dtype 'float64'\n",
       "\twith 23808 stored elements and shape (948, 1333)>"
      ]
     },
     "execution_count": 89,
     "metadata": {},
     "output_type": "execute_result"
    }
   ],
   "source": [
    "X"
   ]
  },
  {
   "cell_type": "code",
   "execution_count": 91,
   "id": "156f9465-8e8b-459e-9747-55449fbbe1da",
   "metadata": {},
   "outputs": [
    {
     "data": {
      "text/plain": [
       "(948, 1333)"
      ]
     },
     "execution_count": 91,
     "metadata": {},
     "output_type": "execute_result"
    }
   ],
   "source": [
    "X.toarray().shape"
   ]
  },
  {
   "cell_type": "code",
   "execution_count": 92,
   "id": "14633a33-1652-46b0-aa16-fb12ae22f4eb",
   "metadata": {},
   "outputs": [
    {
     "data": {
      "text/plain": [
       "array([ 0.09652953, -0.08223719, -0.10263119, -0.07734604,  0.06983235,\n",
       "       -0.05922701,  0.01643441, -0.13392553, -0.23966265,  0.30830078,\n",
       "        0.03694493,  0.05199019, -0.15860661, -0.10202419, -0.00575041,\n",
       "        0.05280283])"
      ]
     },
     "execution_count": 92,
     "metadata": {},
     "output_type": "execute_result"
    }
   ],
   "source": [
    "from sklearn.decomposition import TruncatedSVD\n",
    "\n",
    "X = matrices['text']\n",
    "cv = vectorizers['text']\n",
    "\n",
    "svd = TruncatedSVD(n_components=16)\n",
    "X_emb = svd.fit_transform(X)\n",
    "\n",
    "X_emb[0]"
   ]
  },
  {
   "cell_type": "code",
   "execution_count": 96,
   "id": "92735759-3196-4f19-96fd-91758c15c1df",
   "metadata": {},
   "outputs": [
    {
     "data": {
      "text/plain": [
       "array([ 0.05790238, -0.03851177, -0.05673254, -0.02722826,  0.04105491,\n",
       "       -0.06105902,  0.00861605, -0.08700334, -0.16297745,  0.1978071 ,\n",
       "        0.03571151,  0.04977411, -0.1008483 , -0.05741023,  0.00475762,\n",
       "        0.02715919])"
      ]
     },
     "execution_count": 96,
     "metadata": {},
     "output_type": "execute_result"
    }
   ],
   "source": [
    "query = 'I just signed up. Is it too late to join the course?'\n",
    "\n",
    "Q = cv.transform([query])\n",
    "Q_emb = svd.transform(Q)\n",
    "Q_emb[0]"
   ]
  },
  {
   "cell_type": "code",
   "execution_count": 97,
   "id": "0601dd09-5fee-4c3a-9f75-6da08b95956d",
   "metadata": {},
   "outputs": [
    {
     "data": {
      "text/plain": [
       "((948, 16), (1, 16))"
      ]
     },
     "execution_count": 97,
     "metadata": {},
     "output_type": "execute_result"
    }
   ],
   "source": [
    "X_emb.shape, Q_emb.shape"
   ]
  },
  {
   "cell_type": "code",
   "execution_count": 98,
   "id": "d8b0ad97-a75e-41d9-acf0-3a8db6d3a77f",
   "metadata": {},
   "outputs": [
    {
     "data": {
      "text/plain": [
       "np.float64(0.1621717635425392)"
      ]
     },
     "execution_count": 98,
     "metadata": {},
     "output_type": "execute_result"
    }
   ],
   "source": [
    "np.dot(X_emb[0], Q_emb[0])"
   ]
  },
  {
   "cell_type": "code",
   "execution_count": 99,
   "id": "6ff00969-72f7-4348-b058-69bbe9582ea6",
   "metadata": {},
   "outputs": [
    {
     "data": {
      "text/plain": [
       "[\"The purpose of this document is to capture frequently asked technical questions\\nThe exact day and hour of the course will be 15th Jan 2024 at 17h00. The course will start with the first  “Office Hours'' live.1\\nSubscribe to course public Google Calendar (it works from Desktop only).\\nRegister before the course starts using this link.\\nJoin the course Telegram channel with announcements.\\nDon’t forget to register in DataTalks.Club's Slack and join the channel.\",\n",
       " 'The course videos are pre-recorded, you can start watching the course right now.\\nWe will also occasionally have office hours - live sessions where we will answer your questions. The office hours sessions are recorded too.\\nYou can see the office hours as well as the pre-recorded course videos in the course playlist on YouTube.',\n",
       " 'If you have submitted two projects (and peer-reviewed at least 3 course-mates’ projects for each submission), you will get the certificate for the course. According to the course coordinator, Alexey Grigorev, only two projects are needed to get the course certificate.\\n(optional) David Odimegwu',\n",
       " 'Yes, you can. You won’t be able to submit some of the homeworks, but you can still take part in the course.\\nIn order to get a certificate, you need to submit 2 out of 3 course projects and review 3 peers’ Projects by the deadline. It means that if you join the course at the end of November and manage to work on two projects, you will still be eligible for a certificate.',\n",
       " 'No, late submissions are not allowed. But if the form is still not closed and it’s after the due date, you can still submit the homework. confirm your submission by the date-timestamp on the Course page.y\\nOlder news:[source1] [source2]',\n",
       " 'Everything is recorded, so you won’t miss anything. You will be able to ask your questions for office hours in advance and we will cover them during the live stream. Also, you can always ask questions in Slack.',\n",
       " 'Please choose the closest one to your answer. Also do not post your answer in the course slack channel.',\n",
       " 'The course is available in the self-paced mode too, so you can go through the materials at any time. But if you want to do it as a cohort with other students, the next iterations will happen in September 2023, September 2024 (and potentially other Septembers as well).',\n",
       " \"No, you can only get a certificate if you finish the course with a “live” cohort. We don't award certificates for the self-paced mode. The reason is you need to peer-review capstone(s) after submitting a project. You can only peer-review projects at the time the course is running.\",\n",
       " 'Yes, we will keep all the materials after the course finishes, so you can follow the course at your own pace after it finishes.\\nYou can also continue looking at the homeworks and continue preparing for the next cohort. I guess you can also start working on your final capstone project.']"
      ]
     },
     "execution_count": 99,
     "metadata": {},
     "output_type": "execute_result"
    }
   ],
   "source": [
    "score = cosine_similarity(X_emb, Q_emb).flatten()\n",
    "idx = np.argsort(-score)[:10]\n",
    "list(df.loc[idx].text)"
   ]
  },
  {
   "cell_type": "code",
   "execution_count": 100,
   "id": "743254e6-d720-45d7-8ba3-70a861475910",
   "metadata": {},
   "outputs": [
    {
     "data": {
      "text/html": [
       "<div>\n",
       "<style scoped>\n",
       "    .dataframe tbody tr th:only-of-type {\n",
       "        vertical-align: middle;\n",
       "    }\n",
       "\n",
       "    .dataframe tbody tr th {\n",
       "        vertical-align: top;\n",
       "    }\n",
       "\n",
       "    .dataframe thead th {\n",
       "        text-align: right;\n",
       "    }\n",
       "</style>\n",
       "<table border=\"1\" class=\"dataframe\">\n",
       "  <thead>\n",
       "    <tr style=\"text-align: right;\">\n",
       "      <th></th>\n",
       "      <th>course</th>\n",
       "      <th>section</th>\n",
       "      <th>question</th>\n",
       "      <th>text</th>\n",
       "    </tr>\n",
       "  </thead>\n",
       "  <tbody>\n",
       "    <tr>\n",
       "      <th>0</th>\n",
       "      <td>data-engineering-zoomcamp</td>\n",
       "      <td>General course-related questions</td>\n",
       "      <td>Course - When will the course start?</td>\n",
       "      <td>The purpose of this document is to capture fre...</td>\n",
       "    </tr>\n",
       "    <tr>\n",
       "      <th>436</th>\n",
       "      <td>machine-learning-zoomcamp</td>\n",
       "      <td>General course-related questions</td>\n",
       "      <td>Is it going to be live? When?</td>\n",
       "      <td>The course videos are pre-recorded, you can st...</td>\n",
       "    </tr>\n",
       "    <tr>\n",
       "      <th>764</th>\n",
       "      <td>machine-learning-zoomcamp</td>\n",
       "      <td>Projects (Midterm and Capstone)</td>\n",
       "      <td>What If I submitted only two projects and fail...</td>\n",
       "      <td>If you have submitted two projects (and peer-r...</td>\n",
       "    </tr>\n",
       "    <tr>\n",
       "      <th>449</th>\n",
       "      <td>machine-learning-zoomcamp</td>\n",
       "      <td>General course-related questions</td>\n",
       "      <td>The course has already started. Can I still jo...</td>\n",
       "      <td>Yes, you can. You won’t be able to submit some...</td>\n",
       "    </tr>\n",
       "    <tr>\n",
       "      <th>15</th>\n",
       "      <td>data-engineering-zoomcamp</td>\n",
       "      <td>General course-related questions</td>\n",
       "      <td>Homework - Are late submissions of homework al...</td>\n",
       "      <td>No, late submissions are not allowed. But if t...</td>\n",
       "    </tr>\n",
       "    <tr>\n",
       "      <th>437</th>\n",
       "      <td>machine-learning-zoomcamp</td>\n",
       "      <td>General course-related questions</td>\n",
       "      <td>What if I miss a session?</td>\n",
       "      <td>Everything is recorded, so you won’t miss anyt...</td>\n",
       "    </tr>\n",
       "    <tr>\n",
       "      <th>814</th>\n",
       "      <td>mlops-zoomcamp</td>\n",
       "      <td>+-General course questions</td>\n",
       "      <td>What if my answer is not exactly the same as t...</td>\n",
       "      <td>Please choose the closest one to your answer. ...</td>\n",
       "    </tr>\n",
       "    <tr>\n",
       "      <th>450</th>\n",
       "      <td>machine-learning-zoomcamp</td>\n",
       "      <td>General course-related questions</td>\n",
       "      <td>When does the next iteration start?</td>\n",
       "      <td>The course is available in the self-paced mode...</td>\n",
       "    </tr>\n",
       "    <tr>\n",
       "      <th>11</th>\n",
       "      <td>data-engineering-zoomcamp</td>\n",
       "      <td>General course-related questions</td>\n",
       "      <td>Certificate - Can I follow the course in a sel...</td>\n",
       "      <td>No, you can only get a certificate if you fini...</td>\n",
       "    </tr>\n",
       "    <tr>\n",
       "      <th>7</th>\n",
       "      <td>data-engineering-zoomcamp</td>\n",
       "      <td>General course-related questions</td>\n",
       "      <td>Course - Can I follow the course after it fini...</td>\n",
       "      <td>Yes, we will keep all the materials after the ...</td>\n",
       "    </tr>\n",
       "  </tbody>\n",
       "</table>\n",
       "</div>"
      ],
      "text/plain": [
       "                        course                           section  \\\n",
       "0    data-engineering-zoomcamp  General course-related questions   \n",
       "436  machine-learning-zoomcamp  General course-related questions   \n",
       "764  machine-learning-zoomcamp   Projects (Midterm and Capstone)   \n",
       "449  machine-learning-zoomcamp  General course-related questions   \n",
       "15   data-engineering-zoomcamp  General course-related questions   \n",
       "437  machine-learning-zoomcamp  General course-related questions   \n",
       "814             mlops-zoomcamp        +-General course questions   \n",
       "450  machine-learning-zoomcamp  General course-related questions   \n",
       "11   data-engineering-zoomcamp  General course-related questions   \n",
       "7    data-engineering-zoomcamp  General course-related questions   \n",
       "\n",
       "                                              question  \\\n",
       "0                 Course - When will the course start?   \n",
       "436                      Is it going to be live? When?   \n",
       "764  What If I submitted only two projects and fail...   \n",
       "449  The course has already started. Can I still jo...   \n",
       "15   Homework - Are late submissions of homework al...   \n",
       "437                          What if I miss a session?   \n",
       "814  What if my answer is not exactly the same as t...   \n",
       "450                When does the next iteration start?   \n",
       "11   Certificate - Can I follow the course in a sel...   \n",
       "7    Course - Can I follow the course after it fini...   \n",
       "\n",
       "                                                  text  \n",
       "0    The purpose of this document is to capture fre...  \n",
       "436  The course videos are pre-recorded, you can st...  \n",
       "764  If you have submitted two projects (and peer-r...  \n",
       "449  Yes, you can. You won’t be able to submit some...  \n",
       "15   No, late submissions are not allowed. But if t...  \n",
       "437  Everything is recorded, so you won’t miss anyt...  \n",
       "814  Please choose the closest one to your answer. ...  \n",
       "450  The course is available in the self-paced mode...  \n",
       "11   No, you can only get a certificate if you fini...  \n",
       "7    Yes, we will keep all the materials after the ...  "
      ]
     },
     "execution_count": 100,
     "metadata": {},
     "output_type": "execute_result"
    }
   ],
   "source": [
    "df.loc[idx]"
   ]
  },
  {
   "cell_type": "code",
   "execution_count": 101,
   "id": "d653a091-1788-42f2-b81b-ba44b1a7f5cf",
   "metadata": {},
   "outputs": [
    {
     "data": {
      "text/plain": [
       "array([1.27731003e-01, 0.00000000e+00, 0.00000000e+00, 0.00000000e+00,\n",
       "       1.24211991e-04, 0.00000000e+00, 4.60488020e-04, 0.00000000e+00,\n",
       "       0.00000000e+00, 0.00000000e+00, 0.00000000e+00, 0.00000000e+00,\n",
       "       0.00000000e+00, 0.00000000e+00, 0.00000000e+00, 0.00000000e+00])"
      ]
     },
     "execution_count": 101,
     "metadata": {},
     "output_type": "execute_result"
    }
   ],
   "source": [
    "from sklearn.decomposition import NMF\n",
    "nmf = NMF(n_components=16)\n",
    "X_emb = nmf.fit_transform(X)\n",
    "X_emb[0]"
   ]
  },
  {
   "cell_type": "code",
   "execution_count": 102,
   "id": "fb77e62b-cf47-4dd3-997f-c1f942ca1f74",
   "metadata": {},
   "outputs": [
    {
     "data": {
      "text/plain": [
       "array([0.08531163, 0.00194714, 0.        , 0.        , 0.        ,\n",
       "       0.        , 0.        , 0.        , 0.        , 0.        ,\n",
       "       0.        , 0.        , 0.        , 0.        , 0.00208248,\n",
       "       0.        ])"
      ]
     },
     "execution_count": 102,
     "metadata": {},
     "output_type": "execute_result"
    }
   ],
   "source": [
    "Q = cv.transform([query])\n",
    "Q_emb = nmf.transform(Q)\n",
    "Q_emb[0]"
   ]
  },
  {
   "cell_type": "code",
   "execution_count": 103,
   "id": "f9602923-1c62-437a-8d9c-9df741ac2301",
   "metadata": {},
   "outputs": [
    {
     "data": {
      "text/plain": [
       "['The course videos are pre-recorded, you can start watching the course right now.\\nWe will also occasionally have office hours - live sessions where we will answer your questions. The office hours sessions are recorded too.\\nYou can see the office hours as well as the pre-recorded course videos in the course playlist on YouTube.',\n",
       " 'Yes, you can. You won’t be able to submit some of the homeworks, but you can still take part in the course.\\nIn order to get a certificate, you need to submit 2 out of 3 course projects and review 3 peers’ Projects by the deadline. It means that if you join the course at the end of November and manage to work on two projects, you will still be eligible for a certificate.',\n",
       " 'If you have submitted two projects (and peer-reviewed at least 3 course-mates’ projects for each submission), you will get the certificate for the course. According to the course coordinator, Alexey Grigorev, only two projects are needed to get the course certificate.\\n(optional) David Odimegwu',\n",
       " 'Please choose the closest one to your answer. Also do not post your answer in the course slack channel.',\n",
       " \"Yes, even if you don't register, you're still eligible to submit the homeworks.\\nBe aware, however, that there will be deadlines for turning in the final projects. So don't leave everything for the last minute.\",\n",
       " \"The purpose of this document is to capture frequently asked technical questions\\nThe exact day and hour of the course will be 15th Jan 2024 at 17h00. The course will start with the first  “Office Hours'' live.1\\nSubscribe to course public Google Calendar (it works from Desktop only).\\nRegister before the course starts using this link.\\nJoin the course Telegram channel with announcements.\\nDon’t forget to register in DataTalks.Club's Slack and join the channel.\",\n",
       " \"No, you can only get a certificate if you finish the course with a “live” cohort. We don't award certificates for the self-paced mode. The reason is you need to peer-review capstone(s) after submitting a project. You can only peer-review projects at the time the course is running.\",\n",
       " 'No, it’s not possible. The form is closed after the due date. But don’t worry, homework is not mandatory for finishing the course.',\n",
       " 'Everything is recorded, so you won’t miss anything. You will be able to ask your questions for office hours in advance and we will cover them during the live stream. Also, you can always ask questions in Slack.',\n",
       " 'Yes, we will keep all the materials after the course finishes, so you can follow the course at your own pace after it finishes.\\nYou can also continue looking at the homeworks and continue preparing for the next cohort. I guess you can also start working on your final capstone project.']"
      ]
     },
     "execution_count": 103,
     "metadata": {},
     "output_type": "execute_result"
    }
   ],
   "source": [
    "score = cosine_similarity(X_emb, Q_emb).flatten()\n",
    "idx = np.argsort(-score)[:10]\n",
    "list(df.loc[idx].text)"
   ]
  },
  {
   "cell_type": "code",
   "execution_count": 104,
   "id": "a44d63c0-563e-424f-afc9-c8fb206d3f21",
   "metadata": {},
   "outputs": [
    {
     "data": {
      "text/html": [
       "<div>\n",
       "<style scoped>\n",
       "    .dataframe tbody tr th:only-of-type {\n",
       "        vertical-align: middle;\n",
       "    }\n",
       "\n",
       "    .dataframe tbody tr th {\n",
       "        vertical-align: top;\n",
       "    }\n",
       "\n",
       "    .dataframe thead th {\n",
       "        text-align: right;\n",
       "    }\n",
       "</style>\n",
       "<table border=\"1\" class=\"dataframe\">\n",
       "  <thead>\n",
       "    <tr style=\"text-align: right;\">\n",
       "      <th></th>\n",
       "      <th>course</th>\n",
       "      <th>section</th>\n",
       "      <th>question</th>\n",
       "      <th>text</th>\n",
       "    </tr>\n",
       "  </thead>\n",
       "  <tbody>\n",
       "    <tr>\n",
       "      <th>436</th>\n",
       "      <td>machine-learning-zoomcamp</td>\n",
       "      <td>General course-related questions</td>\n",
       "      <td>Is it going to be live? When?</td>\n",
       "      <td>The course videos are pre-recorded, you can st...</td>\n",
       "    </tr>\n",
       "    <tr>\n",
       "      <th>449</th>\n",
       "      <td>machine-learning-zoomcamp</td>\n",
       "      <td>General course-related questions</td>\n",
       "      <td>The course has already started. Can I still jo...</td>\n",
       "      <td>Yes, you can. You won’t be able to submit some...</td>\n",
       "    </tr>\n",
       "    <tr>\n",
       "      <th>764</th>\n",
       "      <td>machine-learning-zoomcamp</td>\n",
       "      <td>Projects (Midterm and Capstone)</td>\n",
       "      <td>What If I submitted only two projects and fail...</td>\n",
       "      <td>If you have submitted two projects (and peer-r...</td>\n",
       "    </tr>\n",
       "    <tr>\n",
       "      <th>814</th>\n",
       "      <td>mlops-zoomcamp</td>\n",
       "      <td>+-General course questions</td>\n",
       "      <td>What if my answer is not exactly the same as t...</td>\n",
       "      <td>Please choose the closest one to your answer. ...</td>\n",
       "    </tr>\n",
       "    <tr>\n",
       "      <th>2</th>\n",
       "      <td>data-engineering-zoomcamp</td>\n",
       "      <td>General course-related questions</td>\n",
       "      <td>Course - Can I still join the course after the...</td>\n",
       "      <td>Yes, even if you don't register, you're still ...</td>\n",
       "    </tr>\n",
       "    <tr>\n",
       "      <th>0</th>\n",
       "      <td>data-engineering-zoomcamp</td>\n",
       "      <td>General course-related questions</td>\n",
       "      <td>Course - When will the course start?</td>\n",
       "      <td>The purpose of this document is to capture fre...</td>\n",
       "    </tr>\n",
       "    <tr>\n",
       "      <th>11</th>\n",
       "      <td>data-engineering-zoomcamp</td>\n",
       "      <td>General course-related questions</td>\n",
       "      <td>Certificate - Can I follow the course in a sel...</td>\n",
       "      <td>No, you can only get a certificate if you fini...</td>\n",
       "    </tr>\n",
       "    <tr>\n",
       "      <th>451</th>\n",
       "      <td>machine-learning-zoomcamp</td>\n",
       "      <td>General course-related questions</td>\n",
       "      <td>Can I submit the homework after the due date?</td>\n",
       "      <td>No, it’s not possible. The form is closed afte...</td>\n",
       "    </tr>\n",
       "    <tr>\n",
       "      <th>437</th>\n",
       "      <td>machine-learning-zoomcamp</td>\n",
       "      <td>General course-related questions</td>\n",
       "      <td>What if I miss a session?</td>\n",
       "      <td>Everything is recorded, so you won’t miss anyt...</td>\n",
       "    </tr>\n",
       "    <tr>\n",
       "      <th>7</th>\n",
       "      <td>data-engineering-zoomcamp</td>\n",
       "      <td>General course-related questions</td>\n",
       "      <td>Course - Can I follow the course after it fini...</td>\n",
       "      <td>Yes, we will keep all the materials after the ...</td>\n",
       "    </tr>\n",
       "  </tbody>\n",
       "</table>\n",
       "</div>"
      ],
      "text/plain": [
       "                        course                           section  \\\n",
       "436  machine-learning-zoomcamp  General course-related questions   \n",
       "449  machine-learning-zoomcamp  General course-related questions   \n",
       "764  machine-learning-zoomcamp   Projects (Midterm and Capstone)   \n",
       "814             mlops-zoomcamp        +-General course questions   \n",
       "2    data-engineering-zoomcamp  General course-related questions   \n",
       "0    data-engineering-zoomcamp  General course-related questions   \n",
       "11   data-engineering-zoomcamp  General course-related questions   \n",
       "451  machine-learning-zoomcamp  General course-related questions   \n",
       "437  machine-learning-zoomcamp  General course-related questions   \n",
       "7    data-engineering-zoomcamp  General course-related questions   \n",
       "\n",
       "                                              question  \\\n",
       "436                      Is it going to be live? When?   \n",
       "449  The course has already started. Can I still jo...   \n",
       "764  What If I submitted only two projects and fail...   \n",
       "814  What if my answer is not exactly the same as t...   \n",
       "2    Course - Can I still join the course after the...   \n",
       "0                 Course - When will the course start?   \n",
       "11   Certificate - Can I follow the course in a sel...   \n",
       "451      Can I submit the homework after the due date?   \n",
       "437                          What if I miss a session?   \n",
       "7    Course - Can I follow the course after it fini...   \n",
       "\n",
       "                                                  text  \n",
       "436  The course videos are pre-recorded, you can st...  \n",
       "449  Yes, you can. You won’t be able to submit some...  \n",
       "764  If you have submitted two projects (and peer-r...  \n",
       "814  Please choose the closest one to your answer. ...  \n",
       "2    Yes, even if you don't register, you're still ...  \n",
       "0    The purpose of this document is to capture fre...  \n",
       "11   No, you can only get a certificate if you fini...  \n",
       "451  No, it’s not possible. The form is closed afte...  \n",
       "437  Everything is recorded, so you won’t miss anyt...  \n",
       "7    Yes, we will keep all the materials after the ...  "
      ]
     },
     "execution_count": 104,
     "metadata": {},
     "output_type": "execute_result"
    }
   ],
   "source": [
    "df.loc[idx]"
   ]
  },
  {
   "cell_type": "code",
   "execution_count": 105,
   "id": "0b277f4b-16ed-41c7-ae50-7b87105a03e9",
   "metadata": {},
   "outputs": [
    {
     "data": {
      "application/vnd.jupyter.widget-view+json": {
       "model_id": "93ea1f285cf74623b27629cdc63ccdba",
       "version_major": 2,
       "version_minor": 0
      },
      "text/plain": [
       "tokenizer_config.json:   0%|          | 0.00/48.0 [00:00<?, ?B/s]"
      ]
     },
     "metadata": {},
     "output_type": "display_data"
    },
    {
     "data": {
      "application/vnd.jupyter.widget-view+json": {
       "model_id": "867faa2cea4d4d209009c0a202b26e0e",
       "version_major": 2,
       "version_minor": 0
      },
      "text/plain": [
       "vocab.txt:   0%|          | 0.00/232k [00:00<?, ?B/s]"
      ]
     },
     "metadata": {},
     "output_type": "display_data"
    },
    {
     "data": {
      "application/vnd.jupyter.widget-view+json": {
       "model_id": "933b4c2aa4ea45f3b1895ca09b64b018",
       "version_major": 2,
       "version_minor": 0
      },
      "text/plain": [
       "tokenizer.json:   0%|          | 0.00/466k [00:00<?, ?B/s]"
      ]
     },
     "metadata": {},
     "output_type": "display_data"
    },
    {
     "data": {
      "application/vnd.jupyter.widget-view+json": {
       "model_id": "4ddfae7322734578a75e81499824ffb0",
       "version_major": 2,
       "version_minor": 0
      },
      "text/plain": [
       "config.json:   0%|          | 0.00/570 [00:00<?, ?B/s]"
      ]
     },
     "metadata": {},
     "output_type": "display_data"
    },
    {
     "name": "stderr",
     "output_type": "stream",
     "text": [
      "Xet Storage is enabled for this repo, but the 'hf_xet' package is not installed. Falling back to regular HTTP download. For better performance, install the package with: `pip install huggingface_hub[hf_xet]` or `pip install hf_xet`\n"
     ]
    },
    {
     "data": {
      "application/vnd.jupyter.widget-view+json": {
       "model_id": "300d64714b7448e2b1aa81d4da126a4a",
       "version_major": 2,
       "version_minor": 0
      },
      "text/plain": [
       "model.safetensors:   0%|          | 0.00/440M [00:00<?, ?B/s]"
      ]
     },
     "metadata": {},
     "output_type": "display_data"
    },
    {
     "data": {
      "text/plain": [
       "BertModel(\n",
       "  (embeddings): BertEmbeddings(\n",
       "    (word_embeddings): Embedding(30522, 768, padding_idx=0)\n",
       "    (position_embeddings): Embedding(512, 768)\n",
       "    (token_type_embeddings): Embedding(2, 768)\n",
       "    (LayerNorm): LayerNorm((768,), eps=1e-12, elementwise_affine=True)\n",
       "    (dropout): Dropout(p=0.1, inplace=False)\n",
       "  )\n",
       "  (encoder): BertEncoder(\n",
       "    (layer): ModuleList(\n",
       "      (0-11): 12 x BertLayer(\n",
       "        (attention): BertAttention(\n",
       "          (self): BertSdpaSelfAttention(\n",
       "            (query): Linear(in_features=768, out_features=768, bias=True)\n",
       "            (key): Linear(in_features=768, out_features=768, bias=True)\n",
       "            (value): Linear(in_features=768, out_features=768, bias=True)\n",
       "            (dropout): Dropout(p=0.1, inplace=False)\n",
       "          )\n",
       "          (output): BertSelfOutput(\n",
       "            (dense): Linear(in_features=768, out_features=768, bias=True)\n",
       "            (LayerNorm): LayerNorm((768,), eps=1e-12, elementwise_affine=True)\n",
       "            (dropout): Dropout(p=0.1, inplace=False)\n",
       "          )\n",
       "        )\n",
       "        (intermediate): BertIntermediate(\n",
       "          (dense): Linear(in_features=768, out_features=3072, bias=True)\n",
       "          (intermediate_act_fn): GELUActivation()\n",
       "        )\n",
       "        (output): BertOutput(\n",
       "          (dense): Linear(in_features=3072, out_features=768, bias=True)\n",
       "          (LayerNorm): LayerNorm((768,), eps=1e-12, elementwise_affine=True)\n",
       "          (dropout): Dropout(p=0.1, inplace=False)\n",
       "        )\n",
       "      )\n",
       "    )\n",
       "  )\n",
       "  (pooler): BertPooler(\n",
       "    (dense): Linear(in_features=768, out_features=768, bias=True)\n",
       "    (activation): Tanh()\n",
       "  )\n",
       ")"
      ]
     },
     "execution_count": 105,
     "metadata": {},
     "output_type": "execute_result"
    }
   ],
   "source": [
    "import torch\n",
    "from transformers import BertModel, BertTokenizer\n",
    "\n",
    "tokenizer = BertTokenizer.from_pretrained(\"bert-base-uncased\")\n",
    "model = BertModel.from_pretrained(\"bert-base-uncased\")\n",
    "model.eval()  # Set the model to evaluation mode if not training"
   ]
  },
  {
   "cell_type": "code",
   "execution_count": 106,
   "id": "5db54841-f5cb-4257-9941-96f234500862",
   "metadata": {},
   "outputs": [],
   "source": [
    "texts = [\n",
    "    \"Yes, we will keep all the materials after the course finishes.\",\n",
    "    \"You can follow the course at your own pace after it finishes\"\n",
    "]\n",
    "encoded_input = tokenizer(texts, padding=True, truncation=True, return_tensors='pt')"
   ]
  },
  {
   "cell_type": "code",
   "execution_count": 107,
   "id": "1c4a9d86-b32b-4a1e-8f03-8814ce753c40",
   "metadata": {},
   "outputs": [
    {
     "data": {
      "text/plain": [
       "{'input_ids': tensor([[  101,  2748,  1010,  2057,  2097,  2562,  2035,  1996,  4475,  2044,\n",
       "          1996,  2607, 12321,  1012,   102],\n",
       "        [  101,  2017,  2064,  3582,  1996,  2607,  2012,  2115,  2219,  6393,\n",
       "          2044,  2009, 12321,   102,     0]]), 'token_type_ids': tensor([[0, 0, 0, 0, 0, 0, 0, 0, 0, 0, 0, 0, 0, 0, 0],\n",
       "        [0, 0, 0, 0, 0, 0, 0, 0, 0, 0, 0, 0, 0, 0, 0]]), 'attention_mask': tensor([[1, 1, 1, 1, 1, 1, 1, 1, 1, 1, 1, 1, 1, 1, 1],\n",
       "        [1, 1, 1, 1, 1, 1, 1, 1, 1, 1, 1, 1, 1, 1, 0]])}"
      ]
     },
     "execution_count": 107,
     "metadata": {},
     "output_type": "execute_result"
    }
   ],
   "source": [
    "encoded_input"
   ]
  },
  {
   "cell_type": "code",
   "execution_count": 108,
   "id": "9eee0ae0-34d6-4ee9-913b-9be47ac72061",
   "metadata": {},
   "outputs": [
    {
     "data": {
      "text/plain": [
       "tensor([[  101,  2748,  1010,  2057,  2097,  2562,  2035,  1996,  4475,  2044,\n",
       "          1996,  2607, 12321,  1012,   102],\n",
       "        [  101,  2017,  2064,  3582,  1996,  2607,  2012,  2115,  2219,  6393,\n",
       "          2044,  2009, 12321,   102,     0]])"
      ]
     },
     "execution_count": 108,
     "metadata": {},
     "output_type": "execute_result"
    }
   ],
   "source": [
    "encoded_input['input_ids']"
   ]
  },
  {
   "cell_type": "code",
   "execution_count": 109,
   "id": "6133086b-32df-4259-9a9e-9540999d4f5a",
   "metadata": {},
   "outputs": [],
   "source": [
    "with torch.no_grad():  # Disable gradient calculation for inference\n",
    "    outputs = model(**encoded_input)\n",
    "    hidden_states = outputs.last_hidden_state"
   ]
  },
  {
   "cell_type": "code",
   "execution_count": 110,
   "id": "31aabdff-32ab-4857-a777-7ef666288386",
   "metadata": {},
   "outputs": [
    {
     "data": {
      "text/plain": [
       "BaseModelOutputWithPoolingAndCrossAttentions(last_hidden_state=tensor([[[ 1.0103e-01,  1.8106e-02,  1.3034e-01,  ..., -2.9319e-01,\n",
       "           1.8632e-01,  6.6145e-01],\n",
       "         [ 1.0608e+00, -1.2425e-01,  1.3701e-01,  ..., -1.6050e-01,\n",
       "           1.0429e+00,  3.5325e-01],\n",
       "         [ 1.8022e-01,  7.7588e-02,  3.9414e-01,  ..., -1.3787e-01,\n",
       "           5.9744e-01,  1.7035e-01],\n",
       "         ...,\n",
       "         [ 4.7383e-01, -1.8445e-02,  2.1863e-01,  ..., -1.2885e-03,\n",
       "          -8.3294e-02, -2.1699e-01],\n",
       "         [ 6.5164e-01,  1.2163e-01, -2.4941e-01,  ...,  1.5567e-01,\n",
       "          -5.6319e-01, -4.3100e-01],\n",
       "         [ 7.1638e-01,  2.1572e-01, -2.8087e-02,  ...,  2.2812e-01,\n",
       "          -6.7250e-01, -3.2448e-01]],\n",
       "\n",
       "        [[ 3.1965e-01, -2.4620e-01,  1.9934e-01,  ..., -2.4255e-01,\n",
       "          -1.0942e-01,  5.8847e-01],\n",
       "         [-6.9823e-01, -7.5619e-01,  1.0645e-01,  ..., -1.1348e-01,\n",
       "           4.5499e-01,  4.0241e-01],\n",
       "         [ 4.1643e-01, -4.7885e-01,  3.2889e-01,  ..., -5.1462e-01,\n",
       "           6.5775e-02,  6.9717e-01],\n",
       "         ...,\n",
       "         [ 1.0277e-01, -8.8974e-01, -1.8112e-01,  ...,  9.2944e-02,\n",
       "          -4.2463e-01, -8.2512e-02],\n",
       "         [ 8.9891e-01, -6.4168e-02, -1.4390e-01,  ...,  9.1889e-02,\n",
       "          -8.6087e-01, -2.9370e-01],\n",
       "         [ 1.6884e-01, -6.6563e-01,  4.6217e-01,  ...,  2.1073e-01,\n",
       "          -2.0668e-01,  2.7407e-04]]]), pooler_output=tensor([[-0.8582, -0.3924, -0.9297,  ..., -0.8452, -0.7236,  0.8645],\n",
       "        [-0.7997, -0.1544,  0.0234,  ...,  0.0340, -0.6289,  0.8029]]), hidden_states=None, past_key_values=None, attentions=None, cross_attentions=None)"
      ]
     },
     "execution_count": 110,
     "metadata": {},
     "output_type": "execute_result"
    }
   ],
   "source": [
    "outputs"
   ]
  },
  {
   "cell_type": "code",
   "execution_count": 111,
   "id": "2ba06e7c-51b1-4da3-9fef-61c55671c246",
   "metadata": {},
   "outputs": [
    {
     "data": {
      "text/plain": [
       "odict_keys(['last_hidden_state', 'pooler_output'])"
      ]
     },
     "execution_count": 111,
     "metadata": {},
     "output_type": "execute_result"
    }
   ],
   "source": [
    "outputs.keys()"
   ]
  },
  {
   "cell_type": "code",
   "execution_count": 112,
   "id": "8bf680d1-8a72-46ff-a01f-e095af62dccf",
   "metadata": {},
   "outputs": [
    {
     "data": {
      "text/plain": [
       "tensor([[-0.8582, -0.3924, -0.9297,  ..., -0.8452, -0.7236,  0.8645],\n",
       "        [-0.7997, -0.1544,  0.0234,  ...,  0.0340, -0.6289,  0.8029]])"
      ]
     },
     "execution_count": 112,
     "metadata": {},
     "output_type": "execute_result"
    }
   ],
   "source": [
    "outputs.pooler_output"
   ]
  },
  {
   "cell_type": "code",
   "execution_count": 113,
   "id": "57ba348c-718f-4c7c-8384-c98431c90444",
   "metadata": {},
   "outputs": [
    {
     "data": {
      "text/plain": [
       "tensor([[[ 1.0103e-01,  1.8106e-02,  1.3034e-01,  ..., -2.9319e-01,\n",
       "           1.8632e-01,  6.6145e-01],\n",
       "         [ 1.0608e+00, -1.2425e-01,  1.3701e-01,  ..., -1.6050e-01,\n",
       "           1.0429e+00,  3.5325e-01],\n",
       "         [ 1.8022e-01,  7.7588e-02,  3.9414e-01,  ..., -1.3787e-01,\n",
       "           5.9744e-01,  1.7035e-01],\n",
       "         ...,\n",
       "         [ 4.7383e-01, -1.8445e-02,  2.1863e-01,  ..., -1.2885e-03,\n",
       "          -8.3294e-02, -2.1699e-01],\n",
       "         [ 6.5164e-01,  1.2163e-01, -2.4941e-01,  ...,  1.5567e-01,\n",
       "          -5.6319e-01, -4.3100e-01],\n",
       "         [ 7.1638e-01,  2.1572e-01, -2.8087e-02,  ...,  2.2812e-01,\n",
       "          -6.7250e-01, -3.2448e-01]],\n",
       "\n",
       "        [[ 3.1965e-01, -2.4620e-01,  1.9934e-01,  ..., -2.4255e-01,\n",
       "          -1.0942e-01,  5.8847e-01],\n",
       "         [-6.9823e-01, -7.5619e-01,  1.0645e-01,  ..., -1.1348e-01,\n",
       "           4.5499e-01,  4.0241e-01],\n",
       "         [ 4.1643e-01, -4.7885e-01,  3.2889e-01,  ..., -5.1462e-01,\n",
       "           6.5775e-02,  6.9717e-01],\n",
       "         ...,\n",
       "         [ 1.0277e-01, -8.8974e-01, -1.8112e-01,  ...,  9.2944e-02,\n",
       "          -4.2463e-01, -8.2512e-02],\n",
       "         [ 8.9891e-01, -6.4168e-02, -1.4390e-01,  ...,  9.1889e-02,\n",
       "          -8.6087e-01, -2.9370e-01],\n",
       "         [ 1.6884e-01, -6.6563e-01,  4.6217e-01,  ...,  2.1073e-01,\n",
       "          -2.0668e-01,  2.7407e-04]]])"
      ]
     },
     "execution_count": 113,
     "metadata": {},
     "output_type": "execute_result"
    }
   ],
   "source": [
    "outputs.last_hidden_state"
   ]
  },
  {
   "cell_type": "code",
   "execution_count": 114,
   "id": "52f4e985-fa79-4567-827a-78b10916c734",
   "metadata": {},
   "outputs": [
    {
     "data": {
      "text/plain": [
       "torch.Size([2, 15, 768])"
      ]
     },
     "execution_count": 114,
     "metadata": {},
     "output_type": "execute_result"
    }
   ],
   "source": [
    "outputs.last_hidden_state.shape"
   ]
  },
  {
   "cell_type": "code",
   "execution_count": 115,
   "id": "2daa26f3-2e77-4ff4-b8cb-39b9bcf27845",
   "metadata": {},
   "outputs": [
    {
     "data": {
      "text/plain": [
       "torch.Size([2, 768])"
      ]
     },
     "execution_count": 115,
     "metadata": {},
     "output_type": "execute_result"
    }
   ],
   "source": [
    "outputs.pooler_output.shape"
   ]
  },
  {
   "cell_type": "code",
   "execution_count": 116,
   "id": "441f12c7-6ad1-400b-9faf-b16da759f399",
   "metadata": {},
   "outputs": [
    {
     "data": {
      "text/plain": [
       "torch.Size([2, 768])"
      ]
     },
     "execution_count": 116,
     "metadata": {},
     "output_type": "execute_result"
    }
   ],
   "source": [
    "sentence_embeddings = hidden_states.mean(dim=1)\n",
    "sentence_embeddings.shape"
   ]
  },
  {
   "cell_type": "code",
   "execution_count": 117,
   "id": "7ed16257-86b9-435e-9357-4b54b40c22ee",
   "metadata": {},
   "outputs": [
    {
     "data": {
      "text/plain": [
       "tensor([[ 0.3600, -0.1607,  0.3545,  ...,  0.0429,  0.0348, -0.0382],\n",
       "        [ 0.1785, -0.5000,  0.2528,  ..., -0.1141, -0.3361,  0.4110]])"
      ]
     },
     "execution_count": 117,
     "metadata": {},
     "output_type": "execute_result"
    }
   ],
   "source": [
    "sentence_embeddings"
   ]
  },
  {
   "cell_type": "code",
   "execution_count": 119,
   "id": "4503513a-83ae-46fb-9fdc-389f62da67f2",
   "metadata": {},
   "outputs": [],
   "source": [
    "X_emb = sentence_embeddings.numpy()"
   ]
  },
  {
   "cell_type": "code",
   "execution_count": 120,
   "id": "84602964-cc41-4b62-a6df-776efd5e210a",
   "metadata": {},
   "outputs": [],
   "source": [
    "sentence_embeddings_cpu = sentence_embeddings.cpu()"
   ]
  },
  {
   "cell_type": "code",
   "execution_count": 121,
   "id": "26221a63-f9c6-4689-bdcd-3afd8cfbc0d8",
   "metadata": {},
   "outputs": [],
   "source": [
    "def make_batches(seq, n):\n",
    "    result = []\n",
    "    for i in range(0, len(seq), n):\n",
    "        batch = seq[i:i+n]\n",
    "        result.append(batch)\n",
    "    return result"
   ]
  },
  {
   "cell_type": "code",
   "execution_count": 126,
   "id": "578c24af-3963-46ca-b72b-fdb61c222a0d",
   "metadata": {},
   "outputs": [],
   "source": [
    "from tqdm import tqdm\n",
    "def compute_embeddings(texts, batch_size=8):\n",
    "    text_batches = make_batches(texts, 8)\n",
    "    \n",
    "    all_embeddings = []\n",
    "    \n",
    "    for batch in tqdm(text_batches):\n",
    "        encoded_input = tokenizer(batch, padding=True, truncation=True, return_tensors='pt')\n",
    "    \n",
    "        with torch.no_grad():\n",
    "            outputs = model(**encoded_input)\n",
    "            hidden_states = outputs.last_hidden_state\n",
    "            \n",
    "            batch_embeddings = hidden_states.mean(dim=1)\n",
    "            batch_embeddings_np = batch_embeddings.cpu().numpy()\n",
    "            all_embeddings.append(batch_embeddings_np)\n",
    "    \n",
    "    final_embeddings = np.vstack(all_embeddings)\n",
    "    return final_embeddings"
   ]
  },
  {
   "cell_type": "code",
   "execution_count": 127,
   "id": "1f57a895-754a-44a2-91dd-ea77e190805c",
   "metadata": {},
   "outputs": [
    {
     "name": "stderr",
     "output_type": "stream",
     "text": [
      "100%|███████████████████████████████████████████████████████████████████████████████████████████████████████████████████████████████████████████████████████████████████| 119/119 [11:01<00:00,  5.56s/it]\n"
     ]
    }
   ],
   "source": [
    "X_text = compute_embeddings(df['text'].tolist())"
   ]
  },
  {
   "cell_type": "code",
   "execution_count": 128,
   "id": "a7f21b58-c82d-4ba4-9e73-194ee7aa332e",
   "metadata": {},
   "outputs": [
    {
     "data": {
      "text/plain": [
       "(948, 768)"
      ]
     },
     "execution_count": 128,
     "metadata": {},
     "output_type": "execute_result"
    }
   ],
   "source": [
    "X_text.shape"
   ]
  },
  {
   "cell_type": "code",
   "execution_count": 129,
   "id": "c5d2a360-3845-4c53-b531-3b7e2d8e4d5e",
   "metadata": {},
   "outputs": [
    {
     "data": {
      "text/plain": [
       "array([-4.56302892e-03, -1.16675124e-01,  6.27471805e-01,  4.42592353e-02,\n",
       "        2.69928187e-01, -2.77483314e-01,  1.63286597e-01,  4.64626551e-01,\n",
       "        1.43439770e-01, -2.27813274e-01, -3.21897268e-01, -2.31939226e-01,\n",
       "       -1.08724557e-01,  1.82816103e-01,  1.34099677e-01,  6.81395084e-02,\n",
       "        6.79704994e-02,  4.16526683e-02, -4.92069870e-02,  2.94101425e-02,\n",
       "        2.67369181e-01, -9.66819599e-02,  3.88590768e-02,  2.83335298e-01,\n",
       "        3.79838914e-01,  2.01214358e-01, -1.00071952e-01,  4.45501171e-02,\n",
       "       -4.26937222e-01, -2.33602270e-01,  1.32447153e-01, -2.06002682e-01,\n",
       "        2.16875732e-01, -7.37486929e-02,  2.41626613e-02, -1.20170064e-01,\n",
       "       -8.28266963e-02,  1.79647580e-01,  2.31271796e-02,  2.17579842e-01,\n",
       "       -3.51695865e-01, -2.39214107e-01,  1.89373866e-01, -1.68018207e-01,\n",
       "       -8.44550133e-02, -1.57881975e-01,  2.51900405e-01, -6.48412704e-02,\n",
       "        6.54011369e-02, -1.15348503e-01, -2.74359882e-01,  4.13323015e-01,\n",
       "        1.90569442e-02,  6.93225041e-02,  6.28218800e-02,  2.46355832e-01,\n",
       "        1.30450696e-01, -4.10385907e-01, -5.44098377e-01,  2.90031470e-02,\n",
       "        2.74382323e-01, -1.44172385e-01, -6.09526336e-02, -1.05711110e-01,\n",
       "        2.31890425e-01, -5.42101897e-02,  1.33114889e-01,  2.01845244e-01,\n",
       "       -5.46797156e-01,  2.95144260e-01, -1.87344670e-01,  4.58903983e-02,\n",
       "       -9.41636339e-02, -9.78969857e-02, -2.37423461e-02, -6.50698319e-02,\n",
       "       -1.36869803e-01,  4.54323977e-01,  2.96835095e-01, -2.20670868e-02,\n",
       "        1.52172302e-04,  1.55171305e-01, -4.89243753e-02,  1.18767045e-01,\n",
       "        1.07844226e-01,  1.19398892e-01, -1.37247309e-01, -5.80079854e-02,\n",
       "       -2.66052783e-01,  6.30951881e-01,  3.24362256e-02, -2.27568790e-01,\n",
       "        3.30750123e-02,  8.09034556e-02,  1.39606625e-01, -2.65435457e-01,\n",
       "       -2.63430774e-01, -4.56270389e-03, -1.41810313e-01,  2.00776517e-01,\n",
       "        5.20408787e-02, -2.55593807e-01,  1.78820156e-02,  1.43502504e-01,\n",
       "        4.38112356e-02,  2.21624635e-02, -2.76968926e-02,  9.49910954e-02,\n",
       "        8.55202898e-02,  3.02700400e-01,  1.39632467e-02, -8.45407993e-02,\n",
       "        6.36636838e-02, -1.53924063e-01, -1.12834103e-01,  1.00646242e-01,\n",
       "       -1.50657251e-01, -9.27613080e-02,  2.54234880e-01,  2.20576361e-01,\n",
       "       -8.18807259e-02,  2.16432139e-01,  1.20937139e-01,  6.91734970e-01,\n",
       "        6.63232207e-02,  3.56314659e-01, -2.11136535e-01,  2.26406470e-01,\n",
       "        6.51989207e-02, -3.78359139e-01,  9.40360427e-02,  2.61221141e-01,\n",
       "        2.94001460e-01, -1.41362503e-01,  6.35080934e-02,  1.65044174e-01,\n",
       "       -1.57453530e-02, -2.09697530e-01, -3.52950059e-02,  8.19544494e-02,\n",
       "        5.81242144e-02, -3.36820893e-02,  3.48576248e-01,  1.57304287e-01,\n",
       "        5.92497848e-02,  2.56838594e-02, -2.25159347e-01, -3.57383013e-01,\n",
       "       -2.53398389e-01,  4.12257850e-01, -1.58195660e-01,  1.35531545e-01,\n",
       "       -1.05656438e-01, -2.99698830e-01, -3.41455162e-01,  6.99741617e-02,\n",
       "       -7.55203739e-02,  1.18335307e-01, -3.03251028e-01, -6.24638535e-02,\n",
       "        4.67570692e-01,  1.64757714e-01, -2.64147371e-01,  3.23206753e-01,\n",
       "        4.16228175e-02, -2.83644744e-03,  1.50158376e-01,  5.86993769e-02,\n",
       "        1.19655296e-01, -3.32258753e-02, -1.67314619e-01, -3.05625230e-01,\n",
       "        4.44364876e-01,  1.21925406e-01, -1.82758182e-01,  1.59405157e-01,\n",
       "        1.28187597e-01, -1.38600484e-01, -1.19514398e-01, -7.38573894e-02,\n",
       "       -5.20888984e-01,  2.51413345e-01,  2.93421522e-02, -1.71887770e-01,\n",
       "       -5.43733351e-02, -1.34044364e-01,  2.74656236e-01, -1.23051979e-01,\n",
       "        8.95122439e-02,  2.06694484e-01, -2.46609807e-01, -1.55623689e-01,\n",
       "       -3.82998586e-02, -2.71157213e-02,  3.16392928e-01, -5.37344575e-01,\n",
       "       -9.92932990e-02,  6.15545921e-02, -3.25415999e-01,  3.44349146e-01,\n",
       "        3.09875786e-01,  7.83689469e-02,  3.12237471e-01, -1.19089164e-01,\n",
       "       -2.98640132e-01, -9.40724090e-02, -7.56203979e-02, -2.13459700e-01,\n",
       "       -5.77848367e-02,  7.47681707e-02, -3.88280958e-01,  3.26967210e-01,\n",
       "        3.18757117e-01, -6.00874831e-04, -3.40855196e-02,  3.74660455e-02,\n",
       "        5.79270124e-02, -2.34802976e-01,  9.82842222e-02,  3.38575542e-02,\n",
       "        8.52433369e-02,  3.41403037e-02, -2.49846682e-01,  3.57789278e-01,\n",
       "       -2.16221347e-01,  2.45472744e-01, -1.62094995e-01, -2.47019216e-01,\n",
       "        3.23565304e-01,  9.16002318e-02, -1.89425573e-01, -2.72958547e-01,\n",
       "        3.79943520e-01,  1.68487847e-01,  1.91106439e-01,  1.26681447e-01,\n",
       "       -2.89233923e-01, -1.58951417e-01,  1.98733229e-02, -5.58837429e-02,\n",
       "        5.17616840e-03,  2.52525479e-01,  3.29894781e-01, -3.20025682e-02,\n",
       "       -6.71164170e-02, -1.23255849e-02, -1.11494036e-02,  2.21974738e-02,\n",
       "       -1.78554118e-01, -2.55993724e-01, -1.32748097e-01, -3.47970784e-01,\n",
       "       -9.15108547e-02, -4.14237946e-01, -3.48324984e-01, -2.27442384e-01,\n",
       "       -2.57408768e-01, -2.24546760e-01, -1.77725464e-01,  2.52122313e-01,\n",
       "        5.37472181e-02, -1.26067266e-01,  1.07863732e-01,  8.89674798e-02,\n",
       "       -2.81126261e-01, -5.79706073e-01,  1.67546585e-01,  2.31657460e-01,\n",
       "        2.99642235e-01,  8.24683160e-03, -4.83983830e-02, -2.54159629e-01,\n",
       "        2.57811062e-02,  3.23190957e-01, -2.97865599e-01, -1.68393090e-01,\n",
       "        4.57235396e-01,  2.54221350e-01,  5.89917935e-02, -7.16433600e-02,\n",
       "       -1.63663685e-01,  6.61565214e-02,  5.10086864e-02,  8.94873813e-02,\n",
       "        1.39413297e-01, -3.13564897e-01,  2.17061684e-01, -1.10151514e-01,\n",
       "       -3.44603509e-01, -1.92697555e-01, -1.70196876e-01,  3.52868408e-01,\n",
       "       -1.78157032e-01, -1.36587232e-01,  4.62622762e-01,  3.60824401e-03,\n",
       "        5.28347380e-02,  2.99021397e-02,  9.31869447e-02, -1.48651943e-01,\n",
       "        4.05219533e-02, -6.26152679e-02,  2.23164439e-01, -5.82865812e-02,\n",
       "        5.90816550e-02, -6.75044134e-02, -1.88251778e-01, -3.77950907e-01,\n",
       "       -5.26610327e+00, -2.73290753e-01, -1.33272275e-01, -2.48986393e-01,\n",
       "        7.52929831e-03, -1.14625521e-01,  3.10939580e-01, -2.14485377e-02,\n",
       "       -3.81812342e-02,  7.68084079e-02, -3.00623626e-01, -1.84093028e-01,\n",
       "        3.88389707e-01,  1.09236918e-01,  1.01012819e-01,  4.05122936e-01,\n",
       "        1.94201499e-01, -2.16381013e-01, -2.81732585e-02,  2.85135359e-01,\n",
       "       -3.35987866e-01, -3.60593468e-01,  2.86411703e-01, -1.60156880e-02,\n",
       "        1.72929198e-01,  2.44289026e-01, -1.99398994e-01, -9.43849981e-03,\n",
       "       -1.39052570e-02, -1.50477812e-01,  2.33536184e-01, -5.24285696e-02,\n",
       "        5.27719520e-02,  1.18552282e-01,  7.66281784e-02, -1.33503661e-01,\n",
       "        1.31855786e-01, -7.36856163e-02,  4.58703935e-03, -1.82375938e-01,\n",
       "        4.98440787e-02, -3.24096113e-01, -1.57575220e-01, -2.48550415e-01,\n",
       "        5.69474936e-01, -3.25506449e-01,  2.36430615e-01, -3.82184982e-02,\n",
       "        1.37997270e-01,  1.10839017e-01, -8.70605931e-02, -3.30184363e-02,\n",
       "       -4.65652943e-02, -2.08351985e-01, -2.88587511e-01, -2.88935918e-02,\n",
       "        1.51439056e-01,  5.57686865e-01, -2.57750124e-01, -2.21182376e-01,\n",
       "       -5.08874580e-02, -1.17171362e-01, -1.08365417e-01, -4.33579475e-01,\n",
       "       -3.20965558e-01, -1.74934670e-01, -2.33807787e-01, -2.09733352e-01,\n",
       "       -1.00714810e-01,  1.44121528e-01, -1.54506519e-01,  1.62738472e-01,\n",
       "       -2.77415097e-01, -5.35722852e-01,  8.78611207e-02, -9.06459019e-02,\n",
       "        1.36752993e-01, -1.33512735e-01,  6.53432682e-02,  1.10187702e-01,\n",
       "       -1.54532120e-01, -3.19189191e-01,  1.66540537e-02,  3.02491933e-01,\n",
       "       -1.72050670e-01, -2.40358740e-01,  2.30565429e-01, -2.72244036e-01,\n",
       "       -2.35227734e-01, -2.40795344e-01,  1.73014760e-01,  3.95392962e-02,\n",
       "        1.55746996e-01,  8.54099244e-02,  1.41601831e-01,  2.10765496e-01,\n",
       "        2.61777908e-01, -3.07173491e-01,  1.56973273e-01, -1.70672417e-01,\n",
       "        4.05452996e-01, -5.31477109e-02,  4.35711503e-01, -4.43688184e-01,\n",
       "       -1.13801353e-01,  1.89717859e-02, -1.76590204e-01,  1.76943112e-02,\n",
       "        1.05621271e-01, -1.09159611e-02,  1.10490248e-01, -2.75382787e-01,\n",
       "        1.07109666e-01, -2.69728571e-01, -2.97876090e-01, -1.58726182e-02,\n",
       "        3.27691399e-02,  1.80251926e-01,  6.49978369e-02, -1.68230757e-01,\n",
       "       -3.73152137e-01,  2.53997028e-01, -1.78338200e-01, -3.55838418e-01,\n",
       "       -3.14086825e-01,  3.07562537e-02, -2.40710258e-01,  1.18674850e-02,\n",
       "        1.29716530e-01, -1.20223947e-01, -3.01311195e-01,  1.72518149e-01,\n",
       "        1.72720730e-01,  1.63368553e-01,  3.39527100e-01, -2.13953972e-01,\n",
       "        5.70412949e-02, -2.71116793e-01,  3.64028603e-01, -5.49873896e-02,\n",
       "       -5.42744733e-02,  2.43072435e-01,  1.13258444e-01,  7.50144199e-02,\n",
       "        2.92058200e-01,  2.75376916e-01, -7.99794402e-03, -1.37721688e-01,\n",
       "       -1.56024963e-01, -1.70747936e-02, -1.18869571e-02, -4.26224381e-01,\n",
       "       -1.24205321e-01,  3.13584954e-02, -2.91907489e-01,  9.64286923e-02,\n",
       "        2.18967199e-02,  2.11887807e-02, -9.73145738e-02, -1.64104432e-01,\n",
       "        8.25392082e-02, -2.75748968e-01,  3.37245941e-01,  1.84919521e-01,\n",
       "       -1.84123904e-01,  5.09262323e-01, -9.38289538e-02,  3.21983509e-02,\n",
       "       -1.41042873e-01, -2.30329350e-01, -1.16192691e-01,  9.47747231e-02,\n",
       "       -1.15008809e-01, -3.98544855e-02,  1.87604070e-01,  2.30430186e-01,\n",
       "        7.52363726e-02, -2.83408999e-01,  1.07382856e-01,  3.44487786e-01,\n",
       "        1.43955508e-02, -2.19640970e-01, -2.46572178e-02, -4.32139449e-02,\n",
       "        2.47482195e-01,  2.31729388e-01,  8.34331438e-02, -5.81443459e-02,\n",
       "        1.42178535e-01,  1.75655201e-01,  2.04815231e-02,  2.81988472e-01,\n",
       "       -2.24009305e-01, -2.65280366e-01,  2.17592735e-02, -3.27060252e-01,\n",
       "        3.61114085e-01,  2.36149356e-01,  1.20689429e-01,  1.12182088e-01,\n",
       "        8.22229609e-02, -1.38267055e-02, -5.53296566e-01,  1.15367703e-01,\n",
       "        1.40457660e-01, -3.20267826e-02,  2.19289824e-01,  1.48828745e-01,\n",
       "        1.42678916e-01, -5.93694560e-02, -1.76135853e-01, -1.76126570e-01,\n",
       "       -2.00573742e-01, -3.94292295e-01, -2.00149879e-01, -2.77778268e-01,\n",
       "       -1.36827052e-01,  7.59626180e-03, -1.47477955e-01,  6.19611889e-02,\n",
       "       -1.34067684e-01,  2.39292309e-01,  1.06237568e-01,  1.76553711e-01,\n",
       "       -2.39564274e-02, -3.64591717e-03,  2.66666681e-01, -1.19104080e-01,\n",
       "       -5.39532676e-02, -1.67534649e-01,  2.62406766e-01, -4.23738152e-01,\n",
       "        2.19911739e-01,  9.98143107e-02, -2.18616143e-01, -2.27824345e-01,\n",
       "       -1.65603653e-01, -3.04112583e-01, -9.24242809e-02, -6.55786395e-02,\n",
       "       -4.10809278e-01, -3.23691130e-01, -1.88929901e-01, -4.25386190e-01,\n",
       "       -8.83173943e-02,  1.34717286e-01, -2.16113552e-01,  3.06735873e-01,\n",
       "       -1.55809864e-01,  3.20677102e-01,  1.63385972e-01,  1.00184102e-02,\n",
       "       -4.12352942e-02, -1.12919264e-01, -1.06334105e-01, -4.99352932e-01,\n",
       "       -1.81136116e-01,  1.49132237e-01, -6.29497319e-02, -1.30150124e-01,\n",
       "        5.22702038e-02, -1.53259477e-02,  2.05425601e-02,  2.15167835e-01,\n",
       "        1.19931586e-01,  3.22844386e-01,  3.10946368e-02, -2.39148811e-01,\n",
       "        4.34937924e-02, -1.15394473e-01, -3.90350656e-03, -4.15649638e-02,\n",
       "       -4.28540409e-02,  1.51265403e-02,  3.34180146e-01,  6.91984242e-05,\n",
       "       -1.40252441e-01, -2.95527577e-01,  8.36584121e-02, -5.01787402e-02,\n",
       "        4.82867882e-02, -3.70648429e-02, -7.62096569e-02,  2.26859212e-01,\n",
       "        2.88933933e-01, -4.60706353e-01, -2.86100451e-02,  1.89119950e-01,\n",
       "        1.01470694e-01,  1.82635635e-01,  7.30235726e-02,  2.11929843e-01,\n",
       "       -2.37483844e-01,  2.18177885e-01, -1.33710295e-01,  2.13240057e-01,\n",
       "        3.04598391e-01,  2.64787488e-02,  2.17028167e-02,  3.46562872e-03,\n",
       "        3.98247577e-02,  1.83665752e-01,  2.79425949e-01,  9.47182924e-02,\n",
       "       -3.04877430e-01,  2.88278878e-01,  1.61098450e-01, -4.23597783e-01,\n",
       "        1.18981592e-01,  1.55910909e-01,  1.09335557e-01, -1.64864197e-01,\n",
       "        4.72690493e-01,  4.62855518e-01, -2.00791046e-01, -3.58909935e-01,\n",
       "       -7.50995800e-02, -1.78924426e-01, -2.81104773e-01, -1.76042140e-01,\n",
       "        1.65785283e-01, -2.13237688e-01,  2.62133926e-01,  2.13528510e-05,\n",
       "       -1.70767773e-02,  3.31957310e-01, -6.53723925e-02,  1.10206120e-01,\n",
       "        3.99535075e-02,  3.95191759e-02,  8.92233849e-02,  2.29807884e-01,\n",
       "       -7.84124881e-02,  4.33763713e-01, -1.31457835e-01, -1.39723197e-01,\n",
       "        3.59523594e-02, -3.05840313e-01, -5.42539731e-02, -8.32774118e-02,\n",
       "        1.87352747e-01,  3.02733570e-01,  2.34891400e-01,  5.10255732e-02,\n",
       "        2.40814835e-01,  3.40713501e-01, -3.09691560e-02,  3.10197294e-01,\n",
       "        4.43409145e-01,  5.84202111e-01,  8.93320069e-02,  1.02151237e-01,\n",
       "       -1.48421839e-01, -1.70100093e-01,  1.29456744e-01,  1.40682533e-01,\n",
       "        2.15125188e-01,  2.71850258e-01,  2.47349814e-02,  4.93364424e-01,\n",
       "        3.28184485e-01,  1.07440114e-01,  1.63786456e-01, -4.32736576e-01,\n",
       "       -2.73996234e-01,  7.47252479e-02,  1.98199287e-01, -7.01127388e-03,\n",
       "        1.25039928e-02,  7.60506913e-02,  4.90272641e-02,  1.76300406e-01,\n",
       "       -2.75305420e-01, -1.55530974e-01, -3.21808755e-01,  5.84082818e-03,\n",
       "        1.21771842e-01, -2.79282741e-02, -2.58338422e-01, -1.12481505e-01,\n",
       "       -5.90608679e-02, -2.36587659e-01, -2.97528923e-01, -1.14191137e-01,\n",
       "       -9.48051587e-02, -4.39304143e-01, -2.45310158e-01,  1.07538812e-01,\n",
       "       -3.89740169e-02, -1.47842765e-01, -2.06421882e-01, -1.78678334e-01,\n",
       "        1.05258852e-01, -4.56690341e-01,  2.87255682e-02, -2.41380736e-01,\n",
       "        2.22782269e-01,  9.56255570e-02,  4.62886006e-01,  1.80653602e-01,\n",
       "        2.17231050e-01, -3.25554907e-01, -6.23160647e-03, -1.21545933e-01,\n",
       "        2.67216057e-01,  8.76947343e-02, -7.16099218e-02,  2.44670525e-01,\n",
       "       -2.18580768e-01,  1.77055657e-01,  2.43571237e-01,  3.71505171e-01,\n",
       "       -4.08304453e-01,  3.42824161e-01,  1.21851273e-01,  2.41951227e-01,\n",
       "        1.19999737e-01, -1.20610334e-01, -6.00583032e-02, -1.28337637e-01,\n",
       "       -3.47383261e-01, -1.59502447e-01, -6.73859753e-03,  1.91743553e-01,\n",
       "       -1.43820584e-01, -6.80865869e-02,  5.06373383e-02,  2.27550611e-01,\n",
       "       -1.93589646e-02, -2.03640983e-01, -5.40209115e-02, -3.70918587e-02,\n",
       "        3.23878735e-01,  1.43710226e-01, -2.41044253e-01, -2.20859289e-01,\n",
       "       -2.00491950e-01,  3.03305000e-01, -4.78212424e-02,  9.97312665e-02,\n",
       "       -1.91871747e-01,  2.70859450e-01, -4.36990261e-02,  1.10254519e-01,\n",
       "        7.37337545e-02, -1.71423405e-01,  6.37054220e-02, -4.60164025e-02,\n",
       "       -4.64585871e-01, -2.21689448e-01,  2.46527657e-01,  5.92482463e-02,\n",
       "        5.39491400e-02, -3.55409622e-01, -7.03164190e-02, -3.90959205e-03,\n",
       "       -9.47734341e-02, -3.65919098e-02,  1.00316785e-01,  2.92712972e-02],\n",
       "      dtype=float32)"
      ]
     },
     "execution_count": 129,
     "metadata": {},
     "output_type": "execute_result"
    }
   ],
   "source": [
    "X_text[0]"
   ]
  },
  {
   "cell_type": "code",
   "execution_count": null,
   "id": "cbc3d051-0aab-447a-86fb-4582a203323d",
   "metadata": {},
   "outputs": [],
   "source": []
  }
 ],
 "metadata": {
  "kernelspec": {
   "display_name": "Python 3 (ipykernel)",
   "language": "python",
   "name": "python3"
  },
  "language_info": {
   "codemirror_mode": {
    "name": "ipython",
    "version": 3
   },
   "file_extension": ".py",
   "mimetype": "text/x-python",
   "name": "python",
   "nbconvert_exporter": "python",
   "pygments_lexer": "ipython3",
   "version": "3.12.1"
  }
 },
 "nbformat": 4,
 "nbformat_minor": 5
}
